{
 "cells": [
  {
   "cell_type": "code",
   "execution_count": null,
   "id": "39dc7b57",
   "metadata": {},
   "outputs": [],
   "source": [
    "import io\n",
    "import os\n",
    "import pandas as pd\n",
    "import re\n",
    "#open vcf as dataframe\n",
    "def read_vcf(path):\n",
    "    with open(path, 'r') as f:\n",
    "        lines = [l for l in f if not l.startswith('##')]\n",
    "    return pd.read_csv(\n",
    "        io.StringIO(''.join(lines)),\n",
    "        dtype={'#CHROM': str, 'POS': int, 'ID': str, 'REF': str, 'ALT': str,\n",
    "               'QUAL': str, 'FILTER': str, 'INFO': str},\n",
    "        sep='\\t'\n",
    "    ).rename(columns={'#CHROM': 'chrom' })\n",
    "\n",
    "#read clinvar for GrCH38 build\n",
    "clin = read_vcf('/project/InternalMedicine/Kong_lab/shared/workspace/CSV/annotation/clinvar_hg38.vcf')"
   ]
  },
  {
   "cell_type": "code",
   "execution_count": null,
   "id": "26b95710",
   "metadata": {},
   "outputs": [],
   "source": [
    "#split by ;, have to look for entry fields by regex\n",
    "with open('/project/InternalMedicine/Kong_lab/shared/workspace/CSV/annotation/clinvar_hg38.vcf', 'r') as f:\n",
    "    head1 = []\n",
    "    for line in f:\n",
    "        if line.startswith('##INFO=<ID='):\n",
    "            j = re.findall('##INFO=<ID=(.*),Num', line)\n",
    "            head1 +=j"
   ]
  },
  {
   "cell_type": "code",
   "execution_count": null,
   "id": "f66f8ba8",
   "metadata": {},
   "outputs": [],
   "source": [
    "#now look for values\n",
    "for j in head1:\n",
    "    clin[j] = ''\n",
    "    for i in range(len(clin)):\n",
    "        var = '{}=([A-Za-z0-9._-|:>,]+)'\n",
    "        d = re.search(var.format(j),clin.INFO[i])\n",
    "        if d is not None :\n",
    "            clin.loc[i, j] = d.group(1)"
   ]
  },
  {
   "cell_type": "code",
   "execution_count": null,
   "id": "419f5d3c",
   "metadata": {},
   "outputs": [],
   "source": [
    "#merge info and original df, drop original clumped info columns\n",
    "clinvar = clin.drop(['INFO'], axis=1)\n",
    "#write to csv\n",
    "clinvar.to_csv('/project/InternalMedicine/Kong_lab/shared/workspace/CSV/annotation/clinvar_hg38.csv', index=False)"
   ]
  },
  {
   "cell_type": "code",
   "execution_count": null,
   "id": "4500ff4e",
   "metadata": {},
   "outputs": [],
   "source": [
    "#LS gene variants\n",
    "LS=clinvar[~pd.isna(clinvar['GENEINFO'])&clinvar['GENEINFO'].str.contains('PMS2|MSH2|MSH6|MLH1')&clinvar['CLNSIG'].isin(['Pathogenic','Likely_pathogenic'])]\n"
   ]
  },
  {
   "cell_type": "code",
   "execution_count": null,
   "id": "dd693534",
   "metadata": {},
   "outputs": [],
   "source": [
    "#more confident filtering\n",
    "mult_review= LS[LS['CLNREVSTAT'].isin(['reviewed_by_expert_panel','criteria_provided,_multiple_submitters,_no_conflicts'])]\n",
    "mult_review.to_csv('jiheum_var_2.csv',index=False)\n"
   ]
  },
  {
   "cell_type": "code",
   "execution_count": null,
   "id": "fa3e97f7",
   "metadata": {},
   "outputs": [],
   "source": [
    "#filter for potential pms2cl variants in exons 12-15\n",
    "pms2 = mult_review[mult_review['GENEINFO'].str.contains('PMS2')]\n",
    "\n",
    "pms2cl = pms2[pms2['POS']<5983000]\n",
    "\n",
    "pms2cl[~pms2cl['MC'].str.contains('acceptor')].to_csv('pms2_pseudo.csv',index=False)"
   ]
  }
 ],
 "metadata": {
  "kernelspec": {
   "display_name": "Python 3 (ipykernel)",
   "language": "python",
   "name": "python3"
  },
  "language_info": {
   "codemirror_mode": {
    "name": "ipython",
    "version": 3
   },
   "file_extension": ".py",
   "mimetype": "text/x-python",
   "name": "python",
   "nbconvert_exporter": "python",
   "pygments_lexer": "ipython3",
   "version": "3.10.8"
  }
 },
 "nbformat": 4,
 "nbformat_minor": 5
}
