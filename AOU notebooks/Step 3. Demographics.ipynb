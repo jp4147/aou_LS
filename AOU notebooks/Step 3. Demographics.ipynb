{
 "cells": [
  {
   "cell_type": "code",
   "execution_count": 1,
   "metadata": {},
   "outputs": [
    {
     "data": {
      "text/html": [
       "    <style>\n",
       "        .bk-notebook-logo {\n",
       "            display: block;\n",
       "            width: 20px;\n",
       "            height: 20px;\n",
       "            background-image: url(data:image/png;base64,iVBORw0KGgoAAAANSUhEUgAAABQAAAAUCAYAAACNiR0NAAAABHNCSVQICAgIfAhkiAAAAAlwSFlzAAALEgAACxIB0t1+/AAAABx0RVh0U29mdHdhcmUAQWRvYmUgRmlyZXdvcmtzIENTNui8sowAAAOkSURBVDiNjZRtaJVlGMd/1/08zzln5zjP1LWcU9N0NkN8m2CYjpgQYQXqSs0I84OLIC0hkEKoPtiH3gmKoiJDU7QpLgoLjLIQCpEsNJ1vqUOdO7ppbuec5+V+rj4ctwzd8IIbbi6u+8f1539dt3A78eXC7QizUF7gyV1fD1Yqg4JWz84yffhm0qkFqBogB9rM8tZdtwVsPUhWhGcFJngGeWrPzHm5oaMmkfEg1usvLFyc8jLRqDOMru7AyC8saQr7GG7f5fvDeH7Ej8CM66nIF+8yngt6HWaKh7k49Soy9nXurCi1o3qUbS3zWfrYeQDTB/Qj6kX6Ybhw4B+bOYoLKCC9H3Nu/leUTZ1JdRWkkn2ldcCamzrcf47KKXdAJllSlxAOkRgyHsGC/zRday5Qld9DyoM4/q/rUoy/CXh3jzOu3bHUVZeU+DEn8FInkPBFlu3+nW3Nw0mk6vCDiWg8CeJaxEwuHS3+z5RgY+YBR6V1Z1nxSOfoaPa4LASWxxdNp+VWTk7+4vzaou8v8PN+xo+KY2xsw6une2frhw05CTYOmQvsEhjhWjn0bmXPjpE1+kplmmkP3suftwTubK9Vq22qKmrBhpY4jvd5afdRA3wGjFAgcnTK2s4hY0/GPNIb0nErGMCRxWOOX64Z8RAC4oCXdklmEvcL8o0BfkNK4lUg9HTl+oPlQxdNo3Mg4Nv175e/1LDGzZen30MEjRUtmXSfiTVu1kK8W4txyV6BMKlbgk3lMwYCiusNy9fVfvvwMxv8Ynl6vxoByANLTWplvuj/nF9m2+PDtt1eiHPBr1oIfhCChQMBw6Aw0UulqTKZdfVvfG7VcfIqLG9bcldL/+pdWTLxLUy8Qq38heUIjh4XlzZxzQm19lLFlr8vdQ97rjZVOLf8nclzckbcD4wxXMidpX30sFd37Fv/GtwwhzhxGVAprjbg0gCAEeIgwCZyTV2Z1REEW8O4py0wsjeloKoMr6iCY6dP92H6Vw/oTyICIthibxjm/DfN9lVz8IqtqKYLUXfoKVMVQVVJOElGjrnnUt9T9wbgp8AyYKaGlqingHZU/uG2NTZSVqwHQTWkx9hxjkpWDaCg6Ckj5qebgBVbT3V3NNXMSiWSDdGV3hrtzla7J+duwPOToIg42ChPQOQjspnSlp1V+Gjdged7+8UN5CRAV7a5EdFNwCjEaBR27b3W890TE7g24NAP/mMDXRWrGoFPQI9ls/MWO2dWFAar/xcOIImbbpA3zgAAAABJRU5ErkJggg==);\n",
       "        }\n",
       "    </style>\n",
       "    <div>\n",
       "        <a href=\"https://bokeh.org\" target=\"_blank\" class=\"bk-notebook-logo\"></a>\n",
       "        <span id=\"aca94b66-d401-427f-9682-997ba2774767\">Loading BokehJS ...</span>\n",
       "    </div>\n"
      ]
     },
     "metadata": {},
     "output_type": "display_data"
    },
    {
     "data": {
      "application/javascript": [
       "'use strict';\n",
       "(function(root) {\n",
       "  function now() {\n",
       "    return new Date();\n",
       "  }\n",
       "\n",
       "  const force = true;\n",
       "\n",
       "  if (typeof root._bokeh_onload_callbacks === \"undefined\" || force === true) {\n",
       "    root._bokeh_onload_callbacks = [];\n",
       "    root._bokeh_is_loading = undefined;\n",
       "  }\n",
       "\n",
       "const JS_MIME_TYPE = 'application/javascript';\n",
       "  const HTML_MIME_TYPE = 'text/html';\n",
       "  const EXEC_MIME_TYPE = 'application/vnd.bokehjs_exec.v0+json';\n",
       "  const CLASS_NAME = 'output_bokeh rendered_html';\n",
       "\n",
       "  /**\n",
       "   * Render data to the DOM node\n",
       "   */\n",
       "  function render(props, node) {\n",
       "    const script = document.createElement(\"script\");\n",
       "    node.appendChild(script);\n",
       "  }\n",
       "\n",
       "  /**\n",
       "   * Handle when an output is cleared or removed\n",
       "   */\n",
       "  function handleClearOutput(event, handle) {\n",
       "    function drop(id) {\n",
       "      const view = Bokeh.index.get_by_id(id)\n",
       "      if (view != null) {\n",
       "        view.model.document.clear()\n",
       "        Bokeh.index.delete(view)\n",
       "      }\n",
       "    }\n",
       "\n",
       "    const cell = handle.cell;\n",
       "\n",
       "    const id = cell.output_area._bokeh_element_id;\n",
       "    const server_id = cell.output_area._bokeh_server_id;\n",
       "\n",
       "    // Clean up Bokeh references\n",
       "    if (id != null) {\n",
       "      drop(id)\n",
       "    }\n",
       "\n",
       "    if (server_id !== undefined) {\n",
       "      // Clean up Bokeh references\n",
       "      const cmd_clean = \"from bokeh.io.state import curstate; print(curstate().uuid_to_server['\" + server_id + \"'].get_sessions()[0].document.roots[0]._id)\";\n",
       "      cell.notebook.kernel.execute(cmd_clean, {\n",
       "        iopub: {\n",
       "          output: function(msg) {\n",
       "            const id = msg.content.text.trim()\n",
       "            drop(id)\n",
       "          }\n",
       "        }\n",
       "      });\n",
       "      // Destroy server and session\n",
       "      const cmd_destroy = \"import bokeh.io.notebook as ion; ion.destroy_server('\" + server_id + \"')\";\n",
       "      cell.notebook.kernel.execute(cmd_destroy);\n",
       "    }\n",
       "  }\n",
       "\n",
       "  /**\n",
       "   * Handle when a new output is added\n",
       "   */\n",
       "  function handleAddOutput(event, handle) {\n",
       "    const output_area = handle.output_area;\n",
       "    const output = handle.output;\n",
       "\n",
       "    // limit handleAddOutput to display_data with EXEC_MIME_TYPE content only\n",
       "    if ((output.output_type != \"display_data\") || (!Object.prototype.hasOwnProperty.call(output.data, EXEC_MIME_TYPE))) {\n",
       "      return\n",
       "    }\n",
       "\n",
       "    const toinsert = output_area.element.find(\".\" + CLASS_NAME.split(' ')[0]);\n",
       "\n",
       "    if (output.metadata[EXEC_MIME_TYPE][\"id\"] !== undefined) {\n",
       "      toinsert[toinsert.length - 1].firstChild.textContent = output.data[JS_MIME_TYPE];\n",
       "      // store reference to embed id on output_area\n",
       "      output_area._bokeh_element_id = output.metadata[EXEC_MIME_TYPE][\"id\"];\n",
       "    }\n",
       "    if (output.metadata[EXEC_MIME_TYPE][\"server_id\"] !== undefined) {\n",
       "      const bk_div = document.createElement(\"div\");\n",
       "      bk_div.innerHTML = output.data[HTML_MIME_TYPE];\n",
       "      const script_attrs = bk_div.children[0].attributes;\n",
       "      for (let i = 0; i < script_attrs.length; i++) {\n",
       "        toinsert[toinsert.length - 1].firstChild.setAttribute(script_attrs[i].name, script_attrs[i].value);\n",
       "        toinsert[toinsert.length - 1].firstChild.textContent = bk_div.children[0].textContent\n",
       "      }\n",
       "      // store reference to server id on output_area\n",
       "      output_area._bokeh_server_id = output.metadata[EXEC_MIME_TYPE][\"server_id\"];\n",
       "    }\n",
       "  }\n",
       "\n",
       "  function register_renderer(events, OutputArea) {\n",
       "\n",
       "    function append_mime(data, metadata, element) {\n",
       "      // create a DOM node to render to\n",
       "      const toinsert = this.create_output_subarea(\n",
       "        metadata,\n",
       "        CLASS_NAME,\n",
       "        EXEC_MIME_TYPE\n",
       "      );\n",
       "      this.keyboard_manager.register_events(toinsert);\n",
       "      // Render to node\n",
       "      const props = {data: data, metadata: metadata[EXEC_MIME_TYPE]};\n",
       "      render(props, toinsert[toinsert.length - 1]);\n",
       "      element.append(toinsert);\n",
       "      return toinsert\n",
       "    }\n",
       "\n",
       "    /* Handle when an output is cleared or removed */\n",
       "    events.on('clear_output.CodeCell', handleClearOutput);\n",
       "    events.on('delete.Cell', handleClearOutput);\n",
       "\n",
       "    /* Handle when a new output is added */\n",
       "    events.on('output_added.OutputArea', handleAddOutput);\n",
       "\n",
       "    /**\n",
       "     * Register the mime type and append_mime function with output_area\n",
       "     */\n",
       "    OutputArea.prototype.register_mime_type(EXEC_MIME_TYPE, append_mime, {\n",
       "      /* Is output safe? */\n",
       "      safe: true,\n",
       "      /* Index of renderer in `output_area.display_order` */\n",
       "      index: 0\n",
       "    });\n",
       "  }\n",
       "\n",
       "  // register the mime type if in Jupyter Notebook environment and previously unregistered\n",
       "  if (root.Jupyter !== undefined) {\n",
       "    const events = require('base/js/events');\n",
       "    const OutputArea = require('notebook/js/outputarea').OutputArea;\n",
       "\n",
       "    if (OutputArea.prototype.mime_types().indexOf(EXEC_MIME_TYPE) == -1) {\n",
       "      register_renderer(events, OutputArea);\n",
       "    }\n",
       "  }\n",
       "  if (typeof (root._bokeh_timeout) === \"undefined\" || force === true) {\n",
       "    root._bokeh_timeout = Date.now() + 5000;\n",
       "    root._bokeh_failed_load = false;\n",
       "  }\n",
       "\n",
       "  const NB_LOAD_WARNING = {'data': {'text/html':\n",
       "     \"<div style='background-color: #fdd'>\\n\"+\n",
       "     \"<p>\\n\"+\n",
       "     \"BokehJS does not appear to have successfully loaded. If loading BokehJS from CDN, this \\n\"+\n",
       "     \"may be due to a slow or bad network connection. Possible fixes:\\n\"+\n",
       "     \"</p>\\n\"+\n",
       "     \"<ul>\\n\"+\n",
       "     \"<li>re-rerun `output_notebook()` to attempt to load from CDN again, or</li>\\n\"+\n",
       "     \"<li>use INLINE resources instead, as so:</li>\\n\"+\n",
       "     \"</ul>\\n\"+\n",
       "     \"<code>\\n\"+\n",
       "     \"from bokeh.resources import INLINE\\n\"+\n",
       "     \"output_notebook(resources=INLINE)\\n\"+\n",
       "     \"</code>\\n\"+\n",
       "     \"</div>\"}};\n",
       "\n",
       "  function display_loaded(error = null) {\n",
       "    const el = document.getElementById(\"aca94b66-d401-427f-9682-997ba2774767\");\n",
       "    if (el != null) {\n",
       "      const html = (() => {\n",
       "        if (typeof root.Bokeh === \"undefined\") {\n",
       "          if (error == null) {\n",
       "            return \"BokehJS is loading ...\";\n",
       "          } else {\n",
       "            return \"BokehJS failed to load.\";\n",
       "          }\n",
       "        } else {\n",
       "          const prefix = `BokehJS ${root.Bokeh.version}`;\n",
       "          if (error == null) {\n",
       "            return `${prefix} successfully loaded.`;\n",
       "          } else {\n",
       "            return `${prefix} <b>encountered errors</b> while loading and may not function as expected.`;\n",
       "          }\n",
       "        }\n",
       "      })();\n",
       "      el.innerHTML = html;\n",
       "\n",
       "      if (error != null) {\n",
       "        const wrapper = document.createElement(\"div\");\n",
       "        wrapper.style.overflow = \"auto\";\n",
       "        wrapper.style.height = \"5em\";\n",
       "        wrapper.style.resize = \"vertical\";\n",
       "        const content = document.createElement(\"div\");\n",
       "        content.style.fontFamily = \"monospace\";\n",
       "        content.style.whiteSpace = \"pre-wrap\";\n",
       "        content.style.backgroundColor = \"rgb(255, 221, 221)\";\n",
       "        content.textContent = error.stack ?? error.toString();\n",
       "        wrapper.append(content);\n",
       "        el.append(wrapper);\n",
       "      }\n",
       "    } else if (Date.now() < root._bokeh_timeout) {\n",
       "      setTimeout(() => display_loaded(error), 100);\n",
       "    }\n",
       "  }\n",
       "\n",
       "  function run_callbacks() {\n",
       "    try {\n",
       "      root._bokeh_onload_callbacks.forEach(function(callback) {\n",
       "        if (callback != null)\n",
       "          callback();\n",
       "      });\n",
       "    } finally {\n",
       "      delete root._bokeh_onload_callbacks\n",
       "    }\n",
       "    console.debug(\"Bokeh: all callbacks have finished\");\n",
       "  }\n",
       "\n",
       "  function load_libs(css_urls, js_urls, callback) {\n",
       "    if (css_urls == null) css_urls = [];\n",
       "    if (js_urls == null) js_urls = [];\n",
       "\n",
       "    root._bokeh_onload_callbacks.push(callback);\n",
       "    if (root._bokeh_is_loading > 0) {\n",
       "      console.debug(\"Bokeh: BokehJS is being loaded, scheduling callback at\", now());\n",
       "      return null;\n",
       "    }\n",
       "    if (js_urls == null || js_urls.length === 0) {\n",
       "      run_callbacks();\n",
       "      return null;\n",
       "    }\n",
       "    console.debug(\"Bokeh: BokehJS not loaded, scheduling load and callback at\", now());\n",
       "    root._bokeh_is_loading = css_urls.length + js_urls.length;\n",
       "\n",
       "    function on_load() {\n",
       "      root._bokeh_is_loading--;\n",
       "      if (root._bokeh_is_loading === 0) {\n",
       "        console.debug(\"Bokeh: all BokehJS libraries/stylesheets loaded\");\n",
       "        run_callbacks()\n",
       "      }\n",
       "    }\n",
       "\n",
       "    function on_error(url) {\n",
       "      console.error(\"failed to load \" + url);\n",
       "    }\n",
       "\n",
       "    for (let i = 0; i < css_urls.length; i++) {\n",
       "      const url = css_urls[i];\n",
       "      const element = document.createElement(\"link\");\n",
       "      element.onload = on_load;\n",
       "      element.onerror = on_error.bind(null, url);\n",
       "      element.rel = \"stylesheet\";\n",
       "      element.type = \"text/css\";\n",
       "      element.href = url;\n",
       "      console.debug(\"Bokeh: injecting link tag for BokehJS stylesheet: \", url);\n",
       "      document.body.appendChild(element);\n",
       "    }\n",
       "\n",
       "    for (let i = 0; i < js_urls.length; i++) {\n",
       "      const url = js_urls[i];\n",
       "      const element = document.createElement('script');\n",
       "      element.onload = on_load;\n",
       "      element.onerror = on_error.bind(null, url);\n",
       "      element.async = false;\n",
       "      element.src = url;\n",
       "      console.debug(\"Bokeh: injecting script tag for BokehJS library: \", url);\n",
       "      document.head.appendChild(element);\n",
       "    }\n",
       "  };\n",
       "\n",
       "  function inject_raw_css(css) {\n",
       "    const element = document.createElement(\"style\");\n",
       "    element.appendChild(document.createTextNode(css));\n",
       "    document.body.appendChild(element);\n",
       "  }\n",
       "\n",
       "  const js_urls = [\"https://cdn.bokeh.org/bokeh/release/bokeh-3.4.1.min.js\", \"https://cdn.bokeh.org/bokeh/release/bokeh-gl-3.4.1.min.js\", \"https://cdn.bokeh.org/bokeh/release/bokeh-widgets-3.4.1.min.js\", \"https://cdn.bokeh.org/bokeh/release/bokeh-tables-3.4.1.min.js\", \"https://cdn.bokeh.org/bokeh/release/bokeh-mathjax-3.4.1.min.js\"];\n",
       "  const css_urls = [];\n",
       "\n",
       "  const inline_js = [    function(Bokeh) {\n",
       "      Bokeh.set_log_level(\"info\");\n",
       "    },\n",
       "function(Bokeh) {\n",
       "    }\n",
       "  ];\n",
       "\n",
       "  function run_inline_js() {\n",
       "    if (root.Bokeh !== undefined || force === true) {\n",
       "      try {\n",
       "            for (let i = 0; i < inline_js.length; i++) {\n",
       "      inline_js[i].call(root, root.Bokeh);\n",
       "    }\n",
       "\n",
       "      } catch (error) {display_loaded(error);throw error;\n",
       "      }if (force === true) {\n",
       "        display_loaded();\n",
       "      }} else if (Date.now() < root._bokeh_timeout) {\n",
       "      setTimeout(run_inline_js, 100);\n",
       "    } else if (!root._bokeh_failed_load) {\n",
       "      console.log(\"Bokeh: BokehJS failed to load within specified timeout.\");\n",
       "      root._bokeh_failed_load = true;\n",
       "    } else if (force !== true) {\n",
       "      const cell = $(document.getElementById(\"aca94b66-d401-427f-9682-997ba2774767\")).parents('.cell').data().cell;\n",
       "      cell.output_area.append_execute_result(NB_LOAD_WARNING)\n",
       "    }\n",
       "  }\n",
       "\n",
       "  if (root._bokeh_is_loading === 0) {\n",
       "    console.debug(\"Bokeh: BokehJS loaded, going straight to plotting\");\n",
       "    run_inline_js();\n",
       "  } else {\n",
       "    load_libs(css_urls, js_urls, function() {\n",
       "      console.debug(\"Bokeh: BokehJS plotting callback run at\", now());\n",
       "      run_inline_js();\n",
       "    });\n",
       "  }\n",
       "}(window));"
      ],
      "application/vnd.bokehjs_load.v0+json": "'use strict';\n(function(root) {\n  function now() {\n    return new Date();\n  }\n\n  const force = true;\n\n  if (typeof root._bokeh_onload_callbacks === \"undefined\" || force === true) {\n    root._bokeh_onload_callbacks = [];\n    root._bokeh_is_loading = undefined;\n  }\n\n\n  if (typeof (root._bokeh_timeout) === \"undefined\" || force === true) {\n    root._bokeh_timeout = Date.now() + 5000;\n    root._bokeh_failed_load = false;\n  }\n\n  const NB_LOAD_WARNING = {'data': {'text/html':\n     \"<div style='background-color: #fdd'>\\n\"+\n     \"<p>\\n\"+\n     \"BokehJS does not appear to have successfully loaded. If loading BokehJS from CDN, this \\n\"+\n     \"may be due to a slow or bad network connection. Possible fixes:\\n\"+\n     \"</p>\\n\"+\n     \"<ul>\\n\"+\n     \"<li>re-rerun `output_notebook()` to attempt to load from CDN again, or</li>\\n\"+\n     \"<li>use INLINE resources instead, as so:</li>\\n\"+\n     \"</ul>\\n\"+\n     \"<code>\\n\"+\n     \"from bokeh.resources import INLINE\\n\"+\n     \"output_notebook(resources=INLINE)\\n\"+\n     \"</code>\\n\"+\n     \"</div>\"}};\n\n  function display_loaded(error = null) {\n    const el = document.getElementById(\"aca94b66-d401-427f-9682-997ba2774767\");\n    if (el != null) {\n      const html = (() => {\n        if (typeof root.Bokeh === \"undefined\") {\n          if (error == null) {\n            return \"BokehJS is loading ...\";\n          } else {\n            return \"BokehJS failed to load.\";\n          }\n        } else {\n          const prefix = `BokehJS ${root.Bokeh.version}`;\n          if (error == null) {\n            return `${prefix} successfully loaded.`;\n          } else {\n            return `${prefix} <b>encountered errors</b> while loading and may not function as expected.`;\n          }\n        }\n      })();\n      el.innerHTML = html;\n\n      if (error != null) {\n        const wrapper = document.createElement(\"div\");\n        wrapper.style.overflow = \"auto\";\n        wrapper.style.height = \"5em\";\n        wrapper.style.resize = \"vertical\";\n        const content = document.createElement(\"div\");\n        content.style.fontFamily = \"monospace\";\n        content.style.whiteSpace = \"pre-wrap\";\n        content.style.backgroundColor = \"rgb(255, 221, 221)\";\n        content.textContent = error.stack ?? error.toString();\n        wrapper.append(content);\n        el.append(wrapper);\n      }\n    } else if (Date.now() < root._bokeh_timeout) {\n      setTimeout(() => display_loaded(error), 100);\n    }\n  }\n\n  function run_callbacks() {\n    try {\n      root._bokeh_onload_callbacks.forEach(function(callback) {\n        if (callback != null)\n          callback();\n      });\n    } finally {\n      delete root._bokeh_onload_callbacks\n    }\n    console.debug(\"Bokeh: all callbacks have finished\");\n  }\n\n  function load_libs(css_urls, js_urls, callback) {\n    if (css_urls == null) css_urls = [];\n    if (js_urls == null) js_urls = [];\n\n    root._bokeh_onload_callbacks.push(callback);\n    if (root._bokeh_is_loading > 0) {\n      console.debug(\"Bokeh: BokehJS is being loaded, scheduling callback at\", now());\n      return null;\n    }\n    if (js_urls == null || js_urls.length === 0) {\n      run_callbacks();\n      return null;\n    }\n    console.debug(\"Bokeh: BokehJS not loaded, scheduling load and callback at\", now());\n    root._bokeh_is_loading = css_urls.length + js_urls.length;\n\n    function on_load() {\n      root._bokeh_is_loading--;\n      if (root._bokeh_is_loading === 0) {\n        console.debug(\"Bokeh: all BokehJS libraries/stylesheets loaded\");\n        run_callbacks()\n      }\n    }\n\n    function on_error(url) {\n      console.error(\"failed to load \" + url);\n    }\n\n    for (let i = 0; i < css_urls.length; i++) {\n      const url = css_urls[i];\n      const element = document.createElement(\"link\");\n      element.onload = on_load;\n      element.onerror = on_error.bind(null, url);\n      element.rel = \"stylesheet\";\n      element.type = \"text/css\";\n      element.href = url;\n      console.debug(\"Bokeh: injecting link tag for BokehJS stylesheet: \", url);\n      document.body.appendChild(element);\n    }\n\n    for (let i = 0; i < js_urls.length; i++) {\n      const url = js_urls[i];\n      const element = document.createElement('script');\n      element.onload = on_load;\n      element.onerror = on_error.bind(null, url);\n      element.async = false;\n      element.src = url;\n      console.debug(\"Bokeh: injecting script tag for BokehJS library: \", url);\n      document.head.appendChild(element);\n    }\n  };\n\n  function inject_raw_css(css) {\n    const element = document.createElement(\"style\");\n    element.appendChild(document.createTextNode(css));\n    document.body.appendChild(element);\n  }\n\n  const js_urls = [\"https://cdn.bokeh.org/bokeh/release/bokeh-3.4.1.min.js\", \"https://cdn.bokeh.org/bokeh/release/bokeh-gl-3.4.1.min.js\", \"https://cdn.bokeh.org/bokeh/release/bokeh-widgets-3.4.1.min.js\", \"https://cdn.bokeh.org/bokeh/release/bokeh-tables-3.4.1.min.js\", \"https://cdn.bokeh.org/bokeh/release/bokeh-mathjax-3.4.1.min.js\"];\n  const css_urls = [];\n\n  const inline_js = [    function(Bokeh) {\n      Bokeh.set_log_level(\"info\");\n    },\nfunction(Bokeh) {\n    }\n  ];\n\n  function run_inline_js() {\n    if (root.Bokeh !== undefined || force === true) {\n      try {\n            for (let i = 0; i < inline_js.length; i++) {\n      inline_js[i].call(root, root.Bokeh);\n    }\n\n      } catch (error) {display_loaded(error);throw error;\n      }if (force === true) {\n        display_loaded();\n      }} else if (Date.now() < root._bokeh_timeout) {\n      setTimeout(run_inline_js, 100);\n    } else if (!root._bokeh_failed_load) {\n      console.log(\"Bokeh: BokehJS failed to load within specified timeout.\");\n      root._bokeh_failed_load = true;\n    } else if (force !== true) {\n      const cell = $(document.getElementById(\"aca94b66-d401-427f-9682-997ba2774767\")).parents('.cell').data().cell;\n      cell.output_area.append_execute_result(NB_LOAD_WARNING)\n    }\n  }\n\n  if (root._bokeh_is_loading === 0) {\n    console.debug(\"Bokeh: BokehJS loaded, going straight to plotting\");\n    run_inline_js();\n  } else {\n    load_libs(css_urls, js_urls, function() {\n      console.debug(\"Bokeh: BokehJS plotting callback run at\", now());\n      run_inline_js();\n    });\n  }\n}(window));"
     },
     "metadata": {},
     "output_type": "display_data"
    }
   ],
   "source": [
    "import os\n",
    "import pandas as pd\n",
    "from datetime import datetime\n",
    "from collections import Counter\n",
    "import hail as hl\n",
    "from tqdm import tqdm\n",
    "import numpy as np\n",
    "import matplotlib.pyplot as plt\n",
    "import seaborn as sns\n",
    "from scipy import stats\n",
    "import statsmodels.api as sm\n",
    "from statsmodels.formula.api import ols\n",
    "from statsmodels.stats.multicomp import pairwise_tukeyhsd"
   ]
  },
  {
   "cell_type": "code",
   "execution_count": 2,
   "metadata": {},
   "outputs": [
    {
     "name": "stderr",
     "output_type": "stream",
     "text": [
      "Initializing Hail with default parameters...\n",
      "/opt/conda/lib/python3.10/site-packages/hailtop/aiocloud/aiogoogle/user_config.py:43: UserWarning:\n",
      "\n",
      "Reading spark-defaults.conf to determine GCS requester pays configuration. This is deprecated. Please use `hailctl config set gcs_requester_pays/project` and `hailctl config set gcs_requester_pays/buckets`.\n",
      "\n",
      "Setting default log level to \"WARN\".\n",
      "To adjust logging level use sc.setLogLevel(newLevel). For SparkR, use setLogLevel(newLevel).\n",
      "Running on Apache Spark version 3.3.0\n",
      "SparkUI available at http://all-of-us-9013-m.c.terra-vpc-sc-30761929.internal:41543\n",
      "Welcome to\n",
      "     __  __     <>__\n",
      "    / /_/ /__  __/ /\n",
      "   / __  / _ `/ / /\n",
      "  /_/ /_/\\_,_/_/_/   version 0.2.130-bea04d9c79b5\n",
      "LOGGING: writing to /home/jupyter/workspaces/crc/hail-20240614-2159-0.2.130-bea04d9c79b5.log\n",
      "2024-06-14 22:00:15.691 Hail: INFO: Reading table to impute column types 1) / 1]\n",
      "2024-06-14 22:00:19.868 Hail: INFO: Finished type imputation        (0 + 1) / 1]\n",
      "  Loading field 'research_id' as type str (user-supplied type)\n",
      "  Loading field 'ancestry_pred' as type str (imputed)\n",
      "  Loading field 'probabilities' as type str (imputed)\n",
      "  Loading field 'pca_features' as type array<float64> (user-supplied type)\n",
      "  Loading field 'ancestry_pred_other' as type str (imputed)\n"
     ]
    }
   ],
   "source": [
    "auxiliary_path = \"gs://fc-aou-datasets-controlled/v7/wgs/short_read/snpindel/aux\"\n",
    "ancestry_path = f'{auxiliary_path}/ancestry'\n",
    "ancestry_pred_path = f'{ancestry_path}/ancestry_preds.tsv'\n",
    "ancestry_pred = hl.import_table(ancestry_pred_path,\n",
    "                               key=\"research_id\", \n",
    "                               impute=True, \n",
    "                               types={\"research_id\":\"tstr\",\"pca_features\":hl.tarray(hl.tfloat)})"
   ]
  },
  {
   "cell_type": "code",
   "execution_count": 3,
   "metadata": {},
   "outputs": [],
   "source": [
    "import hail as hl\n",
    "import os\n",
    "bucket = os.getenv(\"WORKSPACE_BUCKET\")\n",
    "\n",
    "hl.init(default_reference='GRCh38', idempotent=True)\n",
    "save_path = f'{bucket}/data/.mt'\n",
    "mt = hl.read_matrix_table(save_path)"
   ]
  },
  {
   "cell_type": "code",
   "execution_count": 4,
   "metadata": {},
   "outputs": [],
   "source": [
    "sample_ids = mt.s.collect()"
   ]
  },
  {
   "cell_type": "code",
   "execution_count": 8,
   "metadata": {},
   "outputs": [
    {
     "name": "stdout",
     "output_type": "stream",
     "text": [
      "67\n",
      "67\n"
     ]
    }
   ],
   "source": [
    "save_path = f'{bucket}/data/mlh1_0.csv'\n",
    "g1 = pd.read_csv(save_path)\n",
    "for i in range(4):\n",
    "    g1 = pd.concat([g1, pd.read_csv(f'{bucket}/data/mlh1_'+str(i+1)+'.csv')])\n",
    "print(len(g1['pat'].tolist()))\n",
    "print(len(set(g1['pat'].tolist())))\n",
    "mlh1_pat = list(set(g1['pat'].tolist()))"
   ]
  },
  {
   "cell_type": "code",
   "execution_count": 9,
   "metadata": {},
   "outputs": [
    {
     "name": "stdout",
     "output_type": "stream",
     "text": [
      "60\n",
      "60\n"
     ]
    }
   ],
   "source": [
    "save_path = f'{bucket}/data/msh2_0.csv'\n",
    "g2 = pd.read_csv(save_path)\n",
    "for i in range(4):\n",
    "    g2 = pd.concat([g2, pd.read_csv(f'{bucket}/data/msh2_'+str(i+1)+'.csv')])\n",
    "print(len(g2['pat'].tolist()))\n",
    "print(len(set(g2['pat'].tolist())))\n",
    "msh2_pat = list(set(g2['pat'].tolist()))"
   ]
  },
  {
   "cell_type": "code",
   "execution_count": 10,
   "metadata": {},
   "outputs": [
    {
     "name": "stdout",
     "output_type": "stream",
     "text": [
      "225\n",
      "225\n"
     ]
    }
   ],
   "source": [
    "save_path = f'{bucket}/data/msh6_0.csv'\n",
    "g3 = pd.read_csv(save_path)\n",
    "for i in range(4):\n",
    "    g3 = pd.concat([g3, pd.read_csv(f'{bucket}/data/msh6_'+str(i+1)+'.csv')])\n",
    "print(len(g3['pat'].tolist()))\n",
    "print(len(set(g3['pat'].tolist())))\n",
    "msh6_pat = list(set(g3['pat'].tolist()))"
   ]
  },
  {
   "cell_type": "code",
   "execution_count": 11,
   "metadata": {},
   "outputs": [
    {
     "name": "stdout",
     "output_type": "stream",
     "text": [
      "331\n",
      "331\n"
     ]
    }
   ],
   "source": [
    "save_path = f'{bucket}/data/pms2_0.csv'\n",
    "g4 = pd.read_csv(save_path)\n",
    "for i in range(1):\n",
    "    g4 = pd.concat([g4, pd.read_csv(f'{bucket}/data/pms2_'+str(i+1)+'.csv')])\n",
    "print(len(g4['pat'].tolist()))\n",
    "print(len(set(g4['pat'].tolist())))\n",
    "pms2_pat = list(set(g4['pat'].tolist()))"
   ]
  },
  {
   "cell_type": "code",
   "execution_count": 14,
   "metadata": {},
   "outputs": [
    {
     "name": "stderr",
     "output_type": "stream",
     "text": [
      "2024-06-14 18:48:43.709 Hail: INFO: Coerced sorted dataset          (0 + 1) / 1]\n",
      "[Stage 7:>                                                          (0 + 1) / 1]\r"
     ]
    }
   ],
   "source": [
    "ancestry_pred = ancestry_pred.filter(hl.literal(list(set(sample_ids))).contains(ancestry_pred['research_id']))\n",
    "ancestry_pred_df = ancestry_pred.to_pandas()\n",
    "ancestry_pred_df = ancestry_pred_df.rename(columns = {'research_id':'person_id'})\n",
    "ancestry_pred_df = ancestry_pred_df[['person_id','ancestry_pred']]"
   ]
  },
  {
   "cell_type": "code",
   "execution_count": 12,
   "metadata": {},
   "outputs": [
    {
     "data": {
      "application/vnd.jupyter.widget-view+json": {
       "model_id": "66a606fa444e40dda08a53ee1f099a83",
       "version_major": 2,
       "version_minor": 0
      },
      "text/plain": [
       "Downloading:   0%|          | 0/413457 [00:00<?, ?rows/s]"
      ]
     },
     "metadata": {},
     "output_type": "display_data"
    }
   ],
   "source": [
    "dataset_15423695_person_sql = \"\"\"\n",
    "    SELECT\n",
    "        person.person_id,\n",
    "        person.gender_concept_id,\n",
    "        p_gender_concept.concept_name as gender,\n",
    "        person.birth_datetime as date_of_birth,\n",
    "        person.race_concept_id,\n",
    "        p_race_concept.concept_name as race,\n",
    "        person.ethnicity_concept_id,\n",
    "        p_ethnicity_concept.concept_name as ethnicity,\n",
    "        person.sex_at_birth_concept_id,\n",
    "        p_sex_at_birth_concept.concept_name as sex_at_birth \n",
    "    FROM\n",
    "        `\"\"\" + os.environ[\"WORKSPACE_CDR\"] + \"\"\".person` person \n",
    "    LEFT JOIN\n",
    "        `\"\"\" + os.environ[\"WORKSPACE_CDR\"] + \"\"\".concept` p_gender_concept \n",
    "            ON person.gender_concept_id = p_gender_concept.concept_id \n",
    "    LEFT JOIN\n",
    "        `\"\"\" + os.environ[\"WORKSPACE_CDR\"] + \"\"\".concept` p_race_concept \n",
    "            ON person.race_concept_id = p_race_concept.concept_id \n",
    "    LEFT JOIN\n",
    "        `\"\"\" + os.environ[\"WORKSPACE_CDR\"] + \"\"\".concept` p_ethnicity_concept \n",
    "            ON person.ethnicity_concept_id = p_ethnicity_concept.concept_id \n",
    "    LEFT JOIN\n",
    "        `\"\"\" + os.environ[\"WORKSPACE_CDR\"] + \"\"\".concept` p_sex_at_birth_concept \n",
    "            ON person.sex_at_birth_concept_id = p_sex_at_birth_concept.concept_id\"\"\"\n",
    "\n",
    "dataset_15423695_person_df = pd.read_gbq(\n",
    "    dataset_15423695_person_sql,\n",
    "    dialect=\"standard\",\n",
    "    use_bqstorage_api=(\"BIGQUERY_STORAGE_API_ENABLED\" in os.environ),\n",
    "    progress_bar_type=\"tqdm_notebook\")\n",
    "\n",
    "demog_all = dataset_15423695_person_df[dataset_15423695_person_df['person_id'].isin([int(i) for i in sample_ids])]"
   ]
  },
  {
   "cell_type": "code",
   "execution_count": 13,
   "metadata": {
    "scrolled": true
   },
   "outputs": [
    {
     "name": "stderr",
     "output_type": "stream",
     "text": [
      "/tmp/ipykernel_6040/1777470070.py:2: SettingWithCopyWarning:\n",
      "\n",
      "\n",
      "A value is trying to be set on a copy of a slice from a DataFrame.\n",
      "Try using .loc[row_indexer,col_indexer] = value instead\n",
      "\n",
      "See the caveats in the documentation: https://pandas.pydata.org/pandas-docs/stable/user_guide/indexing.html#returning-a-view-versus-a-copy\n",
      "\n",
      "/tmp/ipykernel_6040/1777470070.py:9: SettingWithCopyWarning:\n",
      "\n",
      "\n",
      "A value is trying to be set on a copy of a slice from a DataFrame.\n",
      "Try using .loc[row_indexer,col_indexer] = value instead\n",
      "\n",
      "See the caveats in the documentation: https://pandas.pydata.org/pandas-docs/stable/user_guide/indexing.html#returning-a-view-versus-a-copy\n",
      "\n"
     ]
    }
   ],
   "source": [
    "# Convert date_of_birth to datetime\n",
    "demog_all['date_of_birth'] = pd.to_datetime(demog_all['date_of_birth']).dt.tz_localize(None)\n",
    "\n",
    "now = pd.Timestamp(datetime.now())\n",
    "\n",
    "def timedelta_to_years(td):\n",
    "    return td / np.timedelta64(1, 'Y')\n",
    "# Calculate age\n",
    "demog_all['age'] = (now - demog_all['date_of_birth']).apply(timedelta_to_years)"
   ]
  },
  {
   "cell_type": "code",
   "execution_count": 15,
   "metadata": {},
   "outputs": [],
   "source": [
    "demog_all = demog_all[['person_id','gender','age','race','ethnicity', 'date_of_birth']]\n",
    "demog_all['person_id'] = demog_all['person_id'].astype(str)\n",
    "# demog_all = demog_all.merge(ancestry_pred_df, on = 'person_id', how = 'inner')\n",
    "\n",
    "sex_miss = demog_all[demog_all['gender'].isin(['PMI: Skip','Gender Identity: Additional Options','I prefer not to answer',\n",
    "                                               'Not man only, not woman only, prefer not to answer, or skipped',\n",
    "                                              'Gender Identity: Transgender','Gender Identity: Non Binary'])]['person_id'].tolist()\n",
    "eth_miss = demog_all[demog_all['ethnicity'].isin(['PMI: Skip','What Race Ethnicity: Race Ethnicity None Of These',\n",
    "                                          'PMI: Prefer Not To Answer'])]['person_id'].tolist()\n",
    "\n",
    "rm_pat = list(set(sex_miss+eth_miss))\n",
    "demog_all = demog_all[~demog_all['person_id'].isin(rm_pat)]"
   ]
  },
  {
   "cell_type": "code",
   "execution_count": 16,
   "metadata": {},
   "outputs": [],
   "source": [
    "demog_all['person_id'] = demog_all['person_id'].astype(int)"
   ]
  },
  {
   "cell_type": "code",
   "execution_count": 17,
   "metadata": {},
   "outputs": [
    {
     "name": "stdout",
     "output_type": "stream",
     "text": [
      "682\n",
      "217227\n"
     ]
    }
   ],
   "source": [
    "mmr = list(set(mlh1_pat + msh2_pat + msh6_pat + pms2_pat))\n",
    "control = list(set(list(demog_all['person_id']))-set(mmr))\n",
    "print(len(mmr))\n",
    "print(len(control))"
   ]
  },
  {
   "cell_type": "code",
   "execution_count": 18,
   "metadata": {},
   "outputs": [],
   "source": [
    "def demog_by_mmr(patid):\n",
    "    mmr_df = pd.DataFrame(patid)\n",
    "    mmr_df.columns = ['person_id']\n",
    "    demog_mmr =mmr_df.merge(demog_all, on = 'person_id', how = 'inner')\n",
    "    return demog_mmr"
   ]
  },
  {
   "cell_type": "code",
   "execution_count": 19,
   "metadata": {},
   "outputs": [],
   "source": [
    "demog_all = demog_all.reset_index(drop = True)\n",
    "mlh1_df = demog_by_mmr(mlh1_pat)\n",
    "mlh1_df['group'] = 'MLH1'\n",
    "msh2_df = demog_by_mmr(msh2_pat)\n",
    "msh2_df['group'] = 'MSH2'\n",
    "msh6_df = demog_by_mmr(msh6_pat)\n",
    "msh6_df['group'] = 'MSH6'\n",
    "pms2_df = demog_by_mmr(pms2_pat)\n",
    "pms2_df['group'] = 'PMS2'\n",
    "control_df = demog_by_mmr(control)\n",
    "control_df['group'] = 'control'"
   ]
  },
  {
   "cell_type": "code",
   "execution_count": 21,
   "metadata": {},
   "outputs": [],
   "source": [
    "grouped_demog = pd.concat([mlh1_df, msh2_df, msh6_df, pms2_df, control_df])"
   ]
  },
  {
   "cell_type": "code",
   "execution_count": 23,
   "metadata": {},
   "outputs": [
    {
     "data": {
      "text/plain": [
       "Counter({'control': 217227, 'PMS2': 316, 'MSH6': 212, 'MLH1': 63, 'MSH2': 55})"
      ]
     },
     "execution_count": 23,
     "metadata": {},
     "output_type": "execute_result"
    }
   ],
   "source": [
    "Counter(grouped_demog['group'])"
   ]
  },
  {
   "cell_type": "code",
   "execution_count": 24,
   "metadata": {},
   "outputs": [
    {
     "data": {
      "text/plain": [
       "646"
      ]
     },
     "execution_count": 24,
     "metadata": {},
     "output_type": "execute_result"
    }
   ],
   "source": [
    "316+212+63+55"
   ]
  },
  {
   "cell_type": "code",
   "execution_count": 29,
   "metadata": {},
   "outputs": [
    {
     "data": {
      "text/plain": [
       "217209"
      ]
     },
     "execution_count": 29,
     "metadata": {},
     "output_type": "execute_result"
    }
   ],
   "source": [
    "217227-13-5"
   ]
  },
  {
   "cell_type": "markdown",
   "metadata": {},
   "source": [
    "### remove pms2 psuedo and wrong sex"
   ]
  },
  {
   "cell_type": "code",
   "execution_count": 25,
   "metadata": {},
   "outputs": [
    {
     "name": "stdout",
     "output_type": "stream",
     "text": [
      "gs://fc-secure-9b1ab35f-6336-4ab5-aadc-2d39277e3d9b/data/LS_fam.csv\n",
      "gs://fc-secure-9b1ab35f-6336-4ab5-aadc-2d39277e3d9b/data/Lynch_related_var.tsv\n",
      "gs://fc-secure-9b1ab35f-6336-4ab5-aadc-2d39277e3d9b/data/Lynch_var.tsv\n",
      "gs://fc-secure-9b1ab35f-6336-4ab5-aadc-2d39277e3d9b/data/acaf_X_filt.bed\n",
      "gs://fc-secure-9b1ab35f-6336-4ab5-aadc-2d39277e3d9b/data/acaf_X_filt.bim\n",
      "gs://fc-secure-9b1ab35f-6336-4ab5-aadc-2d39277e3d9b/data/acaf_X_filt.fam\n",
      "gs://fc-secure-9b1ab35f-6336-4ab5-aadc-2d39277e3d9b/data/acaf_X_filt.log\n",
      "gs://fc-secure-9b1ab35f-6336-4ab5-aadc-2d39277e3d9b/data/acaf_X_filt.nosex\n",
      "gs://fc-secure-9b1ab35f-6336-4ab5-aadc-2d39277e3d9b/data/acaf_Y_filt.bed\n",
      "gs://fc-secure-9b1ab35f-6336-4ab5-aadc-2d39277e3d9b/data/acaf_Y_filt.bim\n",
      "gs://fc-secure-9b1ab35f-6336-4ab5-aadc-2d39277e3d9b/data/acaf_Y_filt.fam\n",
      "gs://fc-secure-9b1ab35f-6336-4ab5-aadc-2d39277e3d9b/data/acaf_Y_filt.log\n",
      "gs://fc-secure-9b1ab35f-6336-4ab5-aadc-2d39277e3d9b/data/acaf_Y_filt.nosex\n",
      "gs://fc-secure-9b1ab35f-6336-4ab5-aadc-2d39277e3d9b/data/aou_demog.csv\n",
      "gs://fc-secure-9b1ab35f-6336-4ab5-aadc-2d39277e3d9b/data/cancer_refined.pickle\n",
      "gs://fc-secure-9b1ab35f-6336-4ab5-aadc-2d39277e3d9b/data/cram_pseudo_patient_files.txt\n",
      "gs://fc-secure-9b1ab35f-6336-4ab5-aadc-2d39277e3d9b/data/crc_matched_data_v7.csv\n",
      "gs://fc-secure-9b1ab35f-6336-4ab5-aadc-2d39277e3d9b/data/crc_matched_data_v7.tsv\n",
      "gs://fc-secure-9b1ab35f-6336-4ab5-aadc-2d39277e3d9b/data/crc_wgs_phenotypes_allv7.tsv\n",
      "gs://fc-secure-9b1ab35f-6336-4ab5-aadc-2d39277e3d9b/data/crc_wgs_phenotypes_v7.tsv\n",
      "gs://fc-secure-9b1ab35f-6336-4ab5-aadc-2d39277e3d9b/data/exome_X_filt.bed\n",
      "gs://fc-secure-9b1ab35f-6336-4ab5-aadc-2d39277e3d9b/data/exome_X_filt.bim\n",
      "gs://fc-secure-9b1ab35f-6336-4ab5-aadc-2d39277e3d9b/data/exome_X_filt.fam\n",
      "gs://fc-secure-9b1ab35f-6336-4ab5-aadc-2d39277e3d9b/data/exome_X_filt.log\n",
      "gs://fc-secure-9b1ab35f-6336-4ab5-aadc-2d39277e3d9b/data/exome_X_filt.nosex\n",
      "gs://fc-secure-9b1ab35f-6336-4ab5-aadc-2d39277e3d9b/data/exome_Y_filt.bed\n",
      "gs://fc-secure-9b1ab35f-6336-4ab5-aadc-2d39277e3d9b/data/exome_Y_filt.bim\n",
      "gs://fc-secure-9b1ab35f-6336-4ab5-aadc-2d39277e3d9b/data/exome_Y_filt.fam\n",
      "gs://fc-secure-9b1ab35f-6336-4ab5-aadc-2d39277e3d9b/data/exome_Y_filt.log\n",
      "gs://fc-secure-9b1ab35f-6336-4ab5-aadc-2d39277e3d9b/data/exome_Y_filt.nosex\n",
      "gs://fc-secure-9b1ab35f-6336-4ab5-aadc-2d39277e3d9b/data/hail-20231219-1646-0.2.107-2387bb00ceee.log\n",
      "gs://fc-secure-9b1ab35f-6336-4ab5-aadc-2d39277e3d9b/data/manifest.csv\n",
      "gs://fc-secure-9b1ab35f-6336-4ab5-aadc-2d39277e3d9b/data/mlh1_0.csv\n",
      "gs://fc-secure-9b1ab35f-6336-4ab5-aadc-2d39277e3d9b/data/mlh1_1.csv\n",
      "gs://fc-secure-9b1ab35f-6336-4ab5-aadc-2d39277e3d9b/data/mlh1_2.csv\n",
      "gs://fc-secure-9b1ab35f-6336-4ab5-aadc-2d39277e3d9b/data/mlh1_3.csv\n",
      "gs://fc-secure-9b1ab35f-6336-4ab5-aadc-2d39277e3d9b/data/mlh1_4.csv\n",
      "gs://fc-secure-9b1ab35f-6336-4ab5-aadc-2d39277e3d9b/data/mmr_new.csv\n",
      "gs://fc-secure-9b1ab35f-6336-4ab5-aadc-2d39277e3d9b/data/mmrgene.tsv\n",
      "gs://fc-secure-9b1ab35f-6336-4ab5-aadc-2d39277e3d9b/data/mmrgene.vcf\n",
      "gs://fc-secure-9b1ab35f-6336-4ab5-aadc-2d39277e3d9b/data/mmrgene_rare.tsv\n",
      "gs://fc-secure-9b1ab35f-6336-4ab5-aadc-2d39277e3d9b/data/mmrgene_rare_exon.tsv\n",
      "gs://fc-secure-9b1ab35f-6336-4ab5-aadc-2d39277e3d9b/data/mmrgenes.bed\n",
      "gs://fc-secure-9b1ab35f-6336-4ab5-aadc-2d39277e3d9b/data/mmrgenes.bim\n",
      "gs://fc-secure-9b1ab35f-6336-4ab5-aadc-2d39277e3d9b/data/mmrgenes.fam\n",
      "gs://fc-secure-9b1ab35f-6336-4ab5-aadc-2d39277e3d9b/data/mmrgenes.log\n",
      "gs://fc-secure-9b1ab35f-6336-4ab5-aadc-2d39277e3d9b/data/mmrgenes.nosex\n",
      "gs://fc-secure-9b1ab35f-6336-4ab5-aadc-2d39277e3d9b/data/mmrgenes.txt\n",
      "gs://fc-secure-9b1ab35f-6336-4ab5-aadc-2d39277e3d9b/data/msh2_0.csv\n",
      "gs://fc-secure-9b1ab35f-6336-4ab5-aadc-2d39277e3d9b/data/msh2_1.csv\n",
      "gs://fc-secure-9b1ab35f-6336-4ab5-aadc-2d39277e3d9b/data/msh2_2.csv\n",
      "gs://fc-secure-9b1ab35f-6336-4ab5-aadc-2d39277e3d9b/data/msh2_3.csv\n",
      "gs://fc-secure-9b1ab35f-6336-4ab5-aadc-2d39277e3d9b/data/msh2_4.csv\n",
      "gs://fc-secure-9b1ab35f-6336-4ab5-aadc-2d39277e3d9b/data/msh6_0.csv\n",
      "gs://fc-secure-9b1ab35f-6336-4ab5-aadc-2d39277e3d9b/data/msh6_1.csv\n",
      "gs://fc-secure-9b1ab35f-6336-4ab5-aadc-2d39277e3d9b/data/msh6_2.csv\n",
      "gs://fc-secure-9b1ab35f-6336-4ab5-aadc-2d39277e3d9b/data/msh6_3.csv\n",
      "gs://fc-secure-9b1ab35f-6336-4ab5-aadc-2d39277e3d9b/data/msh6_4.csv\n",
      "gs://fc-secure-9b1ab35f-6336-4ab5-aadc-2d39277e3d9b/data/mt_pseudo_carriers_QC.csv\n",
      "gs://fc-secure-9b1ab35f-6336-4ab5-aadc-2d39277e3d9b/data/pms2_0.csv\n",
      "gs://fc-secure-9b1ab35f-6336-4ab5-aadc-2d39277e3d9b/data/pms2_1.csv\n",
      "gs://fc-secure-9b1ab35f-6336-4ab5-aadc-2d39277e3d9b/data/pms2_cl_pats.csv\n",
      "gs://fc-secure-9b1ab35f-6336-4ab5-aadc-2d39277e3d9b/data/pms2_cl_pats.tsv\n",
      "gs://fc-secure-9b1ab35f-6336-4ab5-aadc-2d39277e3d9b/data/pms2_pseudo.csv\n",
      "gs://fc-secure-9b1ab35f-6336-4ab5-aadc-2d39277e3d9b/data/pms2_pseudo_check.csv\n",
      "gs://fc-secure-9b1ab35f-6336-4ab5-aadc-2d39277e3d9b/data/pms2cl_pseudo_carriers.csv\n",
      "gs://fc-secure-9b1ab35f-6336-4ab5-aadc-2d39277e3d9b/data/pms2cl_pseudo_carriers_QC.csv\n",
      "gs://fc-secure-9b1ab35f-6336-4ab5-aadc-2d39277e3d9b/data/remove_lst.pickle\n",
      "gs://fc-secure-9b1ab35f-6336-4ab5-aadc-2d39277e3d9b/data/sex_imputed_5_samples.csv\n",
      "gs://fc-secure-9b1ab35f-6336-4ab5-aadc-2d39277e3d9b/data/wgs_1015209.cram\n",
      "gs://fc-secure-9b1ab35f-6336-4ab5-aadc-2d39277e3d9b/data/wgs_1015209.cram.crai\n",
      "gs://fc-secure-9b1ab35f-6336-4ab5-aadc-2d39277e3d9b/data/.mt/\n",
      "gs://fc-secure-9b1ab35f-6336-4ab5-aadc-2d39277e3d9b/data/mtf.mt/\n",
      "47\n"
     ]
    }
   ],
   "source": [
    "bucket = os.getenv(\"WORKSPACE_BUCKET\")\n",
    "!gsutil ls $WORKSPACE_BUCKET/data\n",
    "pms2_pseudo =pd.read_csv(f'{bucket}/data/pms2_cl_pats.csv')\n",
    "\n",
    "print(len(pms2_pseudo['pat'].unique()))\n",
    "remove = [2954789, 1638459, 1712944, 1939350, 2163757] # patients with wrong sex (reported as Male but having endometrial cancer)\n",
    "remove = remove+list(pms2_pseudo['pat'].unique())"
   ]
  },
  {
   "cell_type": "code",
   "execution_count": 26,
   "metadata": {},
   "outputs": [],
   "source": [
    "rev_pat = list(set(list(grouped_demog['person_id'].unique())) - set(remove))\n",
    "rev_pat = pd.DataFrame(rev_pat)\n",
    "rev_pat.columns = ['person_id'] \n",
    "grouped_demog = grouped_demog.merge(rev_pat, on = 'person_id', how = 'inner')"
   ]
  },
  {
   "cell_type": "code",
   "execution_count": 27,
   "metadata": {},
   "outputs": [
    {
     "data": {
      "text/plain": [
       "Counter({'control': 217209, 'PMS2': 286, 'MSH6': 212, 'MLH1': 63, 'MSH2': 55})"
      ]
     },
     "execution_count": 27,
     "metadata": {},
     "output_type": "execute_result"
    }
   ],
   "source": [
    "Counter(grouped_demog['group'])"
   ]
  },
  {
   "cell_type": "code",
   "execution_count": 5,
   "metadata": {},
   "outputs": [],
   "source": [
    "save_path = f'{bucket}/data/aou_demog.csv'\n",
    "grouped_demog.to_csv(save_path, index = None)"
   ]
  },
  {
   "cell_type": "code",
   "execution_count": 6,
   "metadata": {},
   "outputs": [],
   "source": [
    "def median_with_ci(data, num_bootstrap=1000, ci=95):\n",
    "    medians = []\n",
    "    n = len(data)\n",
    "    \n",
    "    # Generate bootstrap samples and compute medians\n",
    "    for _ in range(num_bootstrap):\n",
    "        sample = np.random.choice(data, size=n, replace=True)\n",
    "        medians.append(np.median(sample))\n",
    "    \n",
    "    # Calculate the median and the confidence interval\n",
    "    median = np.median(data)\n",
    "    lower_bound = np.percentile(medians, (100 - ci) / 2)\n",
    "    upper_bound = np.percentile(medians, 100 - (100 - ci) / 2)\n",
    "    \n",
    "    return median, lower_bound, upper_bound"
   ]
  },
  {
   "cell_type": "code",
   "execution_count": 7,
   "metadata": {},
   "outputs": [],
   "source": [
    "demog_case = grouped_demog[grouped_demog['group']!='control']\n",
    "demog_ctrl = grouped_demog[grouped_demog['group']=='control']"
   ]
  },
  {
   "cell_type": "code",
   "execution_count": 8,
   "metadata": {},
   "outputs": [
    {
     "name": "stdout",
     "output_type": "stream",
     "text": [
      "Median age: 58.04058655540751\n",
      "95% CI: [56.03784682938011, 60.04058655540751]\n"
     ]
    }
   ],
   "source": [
    "# Calculate the median and 95% CI for the 'age' column\n",
    "median_age, ci_lower, ci_upper = median_with_ci(demog_case['age'])\n",
    "\n",
    "print(f\"Median age: {median_age}\")\n",
    "print(f\"95% CI: [{ci_lower}, {ci_upper}]\")"
   ]
  },
  {
   "cell_type": "code",
   "execution_count": 9,
   "metadata": {
    "scrolled": true
   },
   "outputs": [
    {
     "name": "stdout",
     "output_type": "stream",
     "text": [
      "Median age: 59.04058655540751\n",
      "95% CI: [58.04058655540751, 59.04058655540751]\n"
     ]
    }
   ],
   "source": [
    "# Calculate the median and 95% CI for the 'age' column\n",
    "median_age, ci_lower, ci_upper = median_with_ci(demog_ctrl['age'])\n",
    "\n",
    "print(f\"Median age: {median_age}\")\n",
    "print(f\"95% CI: [{ci_lower}, {ci_upper}]\")"
   ]
  },
  {
   "cell_type": "code",
   "execution_count": 10,
   "metadata": {},
   "outputs": [
    {
     "name": "stdout",
     "output_type": "stream",
     "text": [
      "Median age: 59.04058655540751\n",
      "95% CI: [58.04058655540751, 59.04058655540751]\n"
     ]
    }
   ],
   "source": [
    "# Calculate the median and 95% CI for the 'age' column\n",
    "median_age, ci_lower, ci_upper = median_with_ci(grouped_demog['age'])\n",
    "\n",
    "print(f\"Median age: {median_age}\")\n",
    "print(f\"95% CI: [{ci_lower}, {ci_upper}]\")"
   ]
  }
 ],
 "metadata": {
  "kernelspec": {
   "display_name": "Python 3",
   "language": "python",
   "name": "python3"
  },
  "language_info": {
   "codemirror_mode": {
    "name": "ipython",
    "version": 3
   },
   "file_extension": ".py",
   "mimetype": "text/x-python",
   "name": "python",
   "nbconvert_exporter": "python",
   "pygments_lexer": "ipython3",
   "version": "3.10.12"
  },
  "toc": {
   "base_numbering": 1,
   "nav_menu": {},
   "number_sections": true,
   "sideBar": true,
   "skip_h1_title": false,
   "title_cell": "Table of Contents",
   "title_sidebar": "Contents",
   "toc_cell": false,
   "toc_position": {},
   "toc_section_display": true,
   "toc_window_display": false
  }
 },
 "nbformat": 4,
 "nbformat_minor": 2
}
