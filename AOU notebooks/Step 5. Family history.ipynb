{
 "cells": [
  {
   "cell_type": "code",
   "execution_count": 1,
   "metadata": {},
   "outputs": [],
   "source": [
    "import pickle\n",
    "import os\n",
    "import pandas as pd\n",
    "from datetime import datetime\n",
    "from collections import Counter\n",
    "# import hail as hl\n",
    "from tqdm import tqdm\n",
    "import numpy as np\n",
    "import matplotlib.pyplot as plt"
   ]
  },
  {
   "cell_type": "markdown",
   "metadata": {},
   "source": [
    "# Demography"
   ]
  },
  {
   "cell_type": "code",
   "execution_count": 2,
   "metadata": {},
   "outputs": [],
   "source": [
    "bucket = os.getenv(\"WORKSPACE_BUCKET\")\n",
    "\n",
    "save_path = f'{bucket}/data/aou_demog.csv'\n",
    "demog = pd.read_csv(save_path)"
   ]
  },
  {
   "cell_type": "code",
   "execution_count": 3,
   "metadata": {},
   "outputs": [
    {
     "name": "stdout",
     "output_type": "stream",
     "text": [
      "63\n",
      "55\n",
      "212\n",
      "286\n"
     ]
    }
   ],
   "source": [
    "mlh1 = demog[demog['group']=='MLH1']\n",
    "msh2 = demog[demog['group']=='MSH2']\n",
    "msh6 = demog[demog['group']=='MSH6']\n",
    "pms2 = demog[demog['group']=='PMS2']\n",
    "\n",
    "print(len(mlh1))\n",
    "print(len(msh2))\n",
    "print(len(msh6))\n",
    "print(len(pms2))"
   ]
  },
  {
   "cell_type": "code",
   "execution_count": 4,
   "metadata": {},
   "outputs": [],
   "source": [
    "from google.cloud import storage\n",
    "import pickle\n",
    "\n",
    "# Initialize the Google Cloud Storage client\n",
    "client = storage.Client()\n",
    "\n",
    "# Define the bucket and the path where your file is stored\n",
    "bucket_name = 'fc-secure-9b1ab35f-6336-4ab5-aadc-2d39277e3d9b'\n",
    "file_path = 'data/pat_with_med.pickle'\n",
    "\n",
    "# Get the bucket\n",
    "bucket = client.bucket(bucket_name)\n",
    "\n",
    "# Create a Blob (file) object\n",
    "blob = bucket.blob(file_path)\n",
    "\n",
    "# Download the file's content as a bytes object\n",
    "remove_serialized = blob.download_as_bytes()\n",
    "\n",
    "# Deserialize the bytes object to get the original data\n",
    "pat_concepts = pickle.loads(remove_serialized)"
   ]
  },
  {
   "cell_type": "code",
   "execution_count": 5,
   "metadata": {},
   "outputs": [],
   "source": [
    "mlh1_pat = list(demog[demog['group']=='MLH1'].person_id)\n",
    "msh2_pat = list(demog[demog['group']=='MSH2'].person_id)\n",
    "msh6_pat = list(demog[demog['group']=='MSH6'].person_id)\n",
    "pms2_pat = list(demog[demog['group']=='PMS2'].person_id)"
   ]
  },
  {
   "cell_type": "code",
   "execution_count": 6,
   "metadata": {},
   "outputs": [],
   "source": [
    "mmr = list(set(mlh1_pat + msh2_pat + msh6_pat + pms2_pat))"
   ]
  },
  {
   "cell_type": "code",
   "execution_count": 7,
   "metadata": {},
   "outputs": [
    {
     "data": {
      "text/plain": [
       "615"
      ]
     },
     "execution_count": 7,
     "metadata": {},
     "output_type": "execute_result"
    }
   ],
   "source": [
    "len(mmr)"
   ]
  },
  {
   "cell_type": "code",
   "execution_count": 8,
   "metadata": {},
   "outputs": [],
   "source": [
    "mmr_with_med_record = list(set(list(pat_concepts.keys()))&set(mmr))"
   ]
  },
  {
   "cell_type": "code",
   "execution_count": 9,
   "metadata": {},
   "outputs": [
    {
     "data": {
      "text/plain": [
       "457"
      ]
     },
     "execution_count": 9,
     "metadata": {},
     "output_type": "execute_result"
    }
   ],
   "source": [
    "len(mmr_with_med_record)"
   ]
  },
  {
   "cell_type": "code",
   "execution_count": 10,
   "metadata": {},
   "outputs": [],
   "source": [
    "ctrl = list(demog[demog['group']=='control'].person_id)"
   ]
  },
  {
   "cell_type": "code",
   "execution_count": 11,
   "metadata": {},
   "outputs": [
    {
     "data": {
      "text/plain": [
       "217209"
      ]
     },
     "execution_count": 11,
     "metadata": {},
     "output_type": "execute_result"
    }
   ],
   "source": [
    "len(ctrl)"
   ]
  },
  {
   "cell_type": "code",
   "execution_count": 12,
   "metadata": {},
   "outputs": [],
   "source": [
    "ctrl_with_med_record = list(set(list(pat_concepts.keys()))&set(ctrl))"
   ]
  },
  {
   "cell_type": "code",
   "execution_count": 13,
   "metadata": {},
   "outputs": [
    {
     "data": {
      "text/plain": [
       "162513"
      ]
     },
     "execution_count": 13,
     "metadata": {},
     "output_type": "execute_result"
    }
   ],
   "source": [
    "len(ctrl_with_med_record)"
   ]
  },
  {
   "cell_type": "markdown",
   "metadata": {},
   "source": [
    "# LS carrier with family history"
   ]
  },
  {
   "cell_type": "code",
   "execution_count": 14,
   "metadata": {},
   "outputs": [
    {
     "data": {
      "application/vnd.jupyter.widget-view+json": {
       "model_id": "949b8320aee94a13924090ba1447484c",
       "version_major": 2,
       "version_minor": 0
      },
      "text/plain": [
       "Downloading:   0%|          | 0/106098 [00:00<?, ?rows/s]"
      ]
     },
     "metadata": {},
     "output_type": "display_data"
    }
   ],
   "source": [
    "dataset_15423695_survey_sql = f\"\"\"\n",
    "    SELECT *\n",
    "    FROM `{os.environ[\"WORKSPACE_CDR\"]}.ds_survey` answer\n",
    "    WHERE answer.person_id IN ({', '.join(map(str, mmr_with_med_record))})\n",
    "\"\"\"\n",
    "\n",
    "survey = pd.read_gbq(\n",
    "    dataset_15423695_survey_sql,\n",
    "    dialect=\"standard\",\n",
    "    use_bqstorage_api=(\"BIGQUERY_STORAGE_API_ENABLED\" in os.environ),\n",
    "    progress_bar_type=\"tqdm_notebook\")"
   ]
  },
  {
   "cell_type": "code",
   "execution_count": 15,
   "metadata": {},
   "outputs": [],
   "source": [
    "survey_grk = survey.groupby('survey')\n",
    "survey_type = survey_grk.get_group('Personal and Family Health History')\n",
    "ans = survey_type['answer'].unique()\n",
    "qs = []\n",
    "for a in ans:\n",
    "    qs.append(a.split('-')[0].split(':')[0])\n",
    "    \n",
    "questions = list(set(qs))\n",
    "pids = survey_type['person_id'].unique()\n",
    "\n",
    "dataset_dict = {}\n",
    "for pid in pids:\n",
    "    dataset_dict[pid] = {}\n",
    "    for q in questions:\n",
    "        dataset_dict[pid][q] = []\n",
    "        \n",
    "grk = survey_type.groupby('person_id')\n",
    "check = []\n",
    "for pid in pids:\n",
    "    pat_dat = grk.get_group(pid)\n",
    "    pat_qa = pat_dat['answer']\n",
    "    for qa in pat_qa:\n",
    "        q = qa.split('-')[0].split(':')[0]\n",
    "        a = qa.split('-')[-1].split(':')[-1]\n",
    "        dataset_dict[pid][q].append(a)\n",
    "        if len(dataset_dict[pid][q])>1:\n",
    "            check.append((pid, qa)) # Why do some patients provide different answers for the same question"
   ]
  },
  {
   "cell_type": "code",
   "execution_count": 16,
   "metadata": {},
   "outputs": [],
   "source": [
    "dataset_df = pd.DataFrame.from_dict(dataset_dict, orient='index')"
   ]
  },
  {
   "cell_type": "code",
   "execution_count": 17,
   "metadata": {},
   "outputs": [
    {
     "name": "stdout",
     "output_type": "stream",
     "text": [
      "30\n",
      "15\n",
      "95\n",
      "97\n",
      "0.47619047619047616\n",
      "0.2727272727272727\n",
      "0.4481132075471698\n",
      "0.33916083916083917\n"
     ]
    }
   ],
   "source": [
    "survey_pat = list(survey_type.person_id.unique())\n",
    "\n",
    "mlh1_survey,msh2_survey,msh6_survey,pms2_survey = 0, 0, 0, 0\n",
    "for k in survey_pat:\n",
    "    if k in mlh1_pat:\n",
    "        mlh1_survey += 1\n",
    "    if k in msh2_pat:\n",
    "        msh2_survey += 1\n",
    "    if k in msh6_pat:\n",
    "        msh6_survey += 1\n",
    "    if k in pms2_pat:\n",
    "        pms2_survey += 1\n",
    "        \n",
    "\n",
    "print(mlh1_survey)\n",
    "print(msh2_survey)\n",
    "print(msh6_survey)\n",
    "print(pms2_survey)\n",
    "\n",
    "print(mlh1_survey/len(mlh1_pat))\n",
    "print(msh2_survey/len(msh2_pat))\n",
    "print(msh6_survey/len(msh6_pat))\n",
    "print(pms2_survey/len(pms2_pat))"
   ]
  },
  {
   "cell_type": "code",
   "execution_count": 18,
   "metadata": {},
   "outputs": [
    {
     "data": {
      "text/plain": [
       "237"
      ]
     },
     "execution_count": 18,
     "metadata": {},
     "output_type": "execute_result"
    }
   ],
   "source": [
    "30+15+95+97"
   ]
  },
  {
   "cell_type": "code",
   "execution_count": 19,
   "metadata": {},
   "outputs": [
    {
     "data": {
      "text/plain": [
       "['Including yourself, who in your family has had thyroid cancer? ',\n",
       " 'Including yourself, who in your family has had blood or soft tissue cancer? ',\n",
       " 'Including yourself, who in your family has had stomach cancer? ',\n",
       " 'Including yourself, who in your family has had cervical cancer? ',\n",
       " 'Including yourself, who in your family has had ovarian cancer? ',\n",
       " 'Including yourself, who in your family has had esophageal cancer? ',\n",
       " 'Including yourself, who in your family has had lung cancer? ',\n",
       " 'Including yourself, who in your family has had head and neck cancer? (This includes cancers of the mouth, sinuses, nose, or throat. This does not include brain cancer.) ',\n",
       " 'Including yourself, who in your family has had brain cancer? ',\n",
       " 'Including yourself, who in your family has had bladder cancer? ',\n",
       " 'Including yourself, who in your family has had other cancer(s)? ',\n",
       " 'Including yourself, who in your family has had colon cancer/rectal cancer? ',\n",
       " 'Including yourself, who in your family has had endometrial cancer? ',\n",
       " 'Including yourself, who in your family has had skin cancer? ',\n",
       " 'Including yourself, who in your family has had eye cancer? ',\n",
       " 'Including yourself, who in your family has had prostate cancer? ',\n",
       " 'Including yourself, who in your family has had breast cancer? ',\n",
       " 'Including yourself, who in your family has had pancreatic cancer? ',\n",
       " 'Including yourself, who in your family has had bone cancer? ',\n",
       " 'Have you or anyone in your family ever been diagnosed with the following cancer conditions? Think only of the people you are related to by blood. ',\n",
       " 'Including yourself, who in your family has had endocrine cancer? ',\n",
       " 'Including yourself, who in your family has had kidney cancer? ']"
      ]
     },
     "execution_count": 19,
     "metadata": {},
     "output_type": "execute_result"
    }
   ],
   "source": [
    "cancer_related_q = []\n",
    "for i in dataset_df.columns:\n",
    "    if 'cancer' in i:\n",
    "        if 'family' in i:\n",
    "            cancer_related_q.append(i)\n",
    "cancer_related_q"
   ]
  },
  {
   "cell_type": "code",
   "execution_count": 21,
   "metadata": {},
   "outputs": [
    {
     "data": {
      "text/plain": [
       "['Including yourself, who in your family has had stomach cancer? ',\n",
       " 'Including yourself, who in your family has had ovarian cancer? ',\n",
       " 'Including yourself, who in your family has had bladder cancer? ',\n",
       " 'Including yourself, who in your family has had colon cancer/rectal cancer? ',\n",
       " 'Including yourself, who in your family has had endometrial cancer? ',\n",
       " 'Including yourself, who in your family has had prostate cancer? ',\n",
       " 'Including yourself, who in your family has had pancreatic cancer? ']"
      ]
     },
     "execution_count": 21,
     "metadata": {},
     "output_type": "execute_result"
    }
   ],
   "source": [
    "idx = [2,4,9,11,12,15,17] # every run the order of list changes. Change idx to have a list of prostate, colon, endometrial, pancreatic, bladder, ovarian, and stomach cancer\n",
    "LSq = [cancer_related_q[i] for i in idx]\n",
    "LSq"
   ]
  },
  {
   "cell_type": "code",
   "execution_count": 22,
   "metadata": {},
   "outputs": [],
   "source": [
    "Q_res = {}\n",
    "for Q in LSq:\n",
    "    res = {}\n",
    "    for i, row in dataset_df.iterrows():\n",
    "        if len(row[Q])>0:\n",
    "            res[i] = row[Q]\n",
    "    Q_res[Q] = res"
   ]
  },
  {
   "cell_type": "code",
   "execution_count": 23,
   "metadata": {},
   "outputs": [],
   "source": [
    "pat_survey = {}\n",
    "for i in mmr_with_med_record:\n",
    "    pat_survey[i] = []\n",
    "for q in LSq:\n",
    "    res = Q_res[q]\n",
    "    for k,v in res.items():\n",
    "        pat_survey[k].extend(v)"
   ]
  },
  {
   "cell_type": "code",
   "execution_count": 24,
   "metadata": {},
   "outputs": [],
   "source": [
    "for k, v in pat_survey.items():\n",
    "    unique_v = set(v)\n",
    "    pat_survey[k] = [i for i in unique_v if i!=' Self']"
   ]
  },
  {
   "cell_type": "code",
   "execution_count": 25,
   "metadata": {},
   "outputs": [],
   "source": [
    "mlh1_fh, msh2_fh, msh6_fh, pms2_fh = {},{},{},{}\n",
    "for k,v in pat_survey.items():\n",
    "    if len(v)>0:\n",
    "        if k in mlh1_pat:\n",
    "            mlh1_fh[k]=v\n",
    "        if k in msh2_pat:\n",
    "            msh2_fh[k]=v\n",
    "        if k in msh6_pat:\n",
    "            msh6_fh[k]=v\n",
    "        if k in pms2_pat:\n",
    "            pms2_fh[k]=v"
   ]
  },
  {
   "cell_type": "code",
   "execution_count": 26,
   "metadata": {},
   "outputs": [
    {
     "name": "stdout",
     "output_type": "stream",
     "text": [
      "17\n",
      "6\n",
      "51\n",
      "38\n"
     ]
    }
   ],
   "source": [
    "# Participants reported family history of LS-associated cancers \n",
    "print(len(mlh1_fh))\n",
    "print(len(msh2_fh))\n",
    "print(len(msh6_fh))\n",
    "print(len(pms2_fh))"
   ]
  },
  {
   "cell_type": "code",
   "execution_count": 27,
   "metadata": {},
   "outputs": [
    {
     "data": {
      "text/plain": [
       "112"
      ]
     },
     "execution_count": 27,
     "metadata": {},
     "output_type": "execute_result"
    }
   ],
   "source": [
    "17+6+51+38"
   ]
  },
  {
   "cell_type": "code",
   "execution_count": 32,
   "metadata": {},
   "outputs": [],
   "source": [
    "def make2df(mydict,g):\n",
    "    dat = pd.DataFrame(list(mydict.keys()))\n",
    "    dat.columns = ['person_id']\n",
    "    dat['status'] = g\n",
    "    dat['fam'] = list(mydict.values())\n",
    "    return dat"
   ]
  },
  {
   "cell_type": "code",
   "execution_count": 29,
   "metadata": {},
   "outputs": [],
   "source": [
    "LS_fam = pd.concat([make2df(mlh1_fh, 'MLH1'),make2df(msh2_fh, 'MSH2'),make2df(msh6_fh, 'MSH6'),make2df(pms2_fh, 'PMS2')])"
   ]
  },
  {
   "cell_type": "code",
   "execution_count": 35,
   "metadata": {},
   "outputs": [],
   "source": [
    "save_path = f'{bucket}/data/LS_fam.csv'\n",
    "LS_fam.to_csv(save_path)"
   ]
  },
  {
   "cell_type": "markdown",
   "metadata": {},
   "source": [
    "# nonLS carrier with family history"
   ]
  },
  {
   "cell_type": "code",
   "execution_count": 14,
   "metadata": {},
   "outputs": [
    {
     "data": {
      "text/plain": [
       "162513"
      ]
     },
     "execution_count": 14,
     "metadata": {},
     "output_type": "execute_result"
    }
   ],
   "source": [
    "len(ctrl_with_med_record)"
   ]
  },
  {
   "cell_type": "code",
   "execution_count": 15,
   "metadata": {},
   "outputs": [
    {
     "data": {
      "application/vnd.jupyter.widget-view+json": {
       "model_id": "55a41fc3d74d446ab3a40a49aa87b1ac",
       "version_major": 2,
       "version_minor": 0
      },
      "text/plain": [
       "Downloading:   0%|          | 0/18046814 [00:00<?, ?rows/s]"
      ]
     },
     "metadata": {},
     "output_type": "display_data"
    }
   ],
   "source": [
    "#ctrl too large. Need to split the loading process\n",
    "dataset_15423695_survey_sql = f\"\"\"\n",
    "    SELECT *\n",
    "    FROM `{os.environ[\"WORKSPACE_CDR\"]}.ds_survey` answer\n",
    "    WHERE answer.person_id IN ({', '.join(map(str, ctrl_with_med_record[0:80000]))})\n",
    "\"\"\"\n",
    "\n",
    "survey0 = pd.read_gbq(\n",
    "    dataset_15423695_survey_sql,\n",
    "    dialect=\"standard\",\n",
    "    use_bqstorage_api=(\"BIGQUERY_STORAGE_API_ENABLED\" in os.environ),\n",
    "    progress_bar_type=\"tqdm_notebook\")"
   ]
  },
  {
   "cell_type": "code",
   "execution_count": 16,
   "metadata": {},
   "outputs": [
    {
     "data": {
      "application/vnd.jupyter.widget-view+json": {
       "model_id": "71662b04de7c4f828e1511d66f2d9941",
       "version_major": 2,
       "version_minor": 0
      },
      "text/plain": [
       "Downloading:   0%|          | 0/18457317 [00:00<?, ?rows/s]"
      ]
     },
     "metadata": {},
     "output_type": "display_data"
    }
   ],
   "source": [
    "#ctrl too large. Need to split the loading process\n",
    "dataset_15423695_survey_sql = f\"\"\"\n",
    "    SELECT *\n",
    "    FROM `{os.environ[\"WORKSPACE_CDR\"]}.ds_survey` answer\n",
    "    WHERE answer.person_id IN ({', '.join(map(str, ctrl_with_med_record[80000:]))})\n",
    "\"\"\"\n",
    "\n",
    "survey1 = pd.read_gbq(\n",
    "    dataset_15423695_survey_sql,\n",
    "    dialect=\"standard\",\n",
    "    use_bqstorage_api=(\"BIGQUERY_STORAGE_API_ENABLED\" in os.environ),\n",
    "    progress_bar_type=\"tqdm_notebook\")"
   ]
  },
  {
   "cell_type": "code",
   "execution_count": 17,
   "metadata": {},
   "outputs": [],
   "source": [
    "survey_ctrl = pd.concat([survey0, survey1])"
   ]
  },
  {
   "cell_type": "code",
   "execution_count": 18,
   "metadata": {},
   "outputs": [],
   "source": [
    "survey_grk = survey_ctrl.groupby('survey')"
   ]
  },
  {
   "cell_type": "code",
   "execution_count": 19,
   "metadata": {},
   "outputs": [],
   "source": [
    "survey_type = survey_grk.get_group('Personal and Family Health History')"
   ]
  },
  {
   "cell_type": "code",
   "execution_count": 20,
   "metadata": {},
   "outputs": [],
   "source": [
    "ans = survey_type['answer'].unique()"
   ]
  },
  {
   "cell_type": "code",
   "execution_count": 21,
   "metadata": {},
   "outputs": [
    {
     "name": "stderr",
     "output_type": "stream",
     "text": [
      "100%|██████████| 81221/81221 [01:39<00:00, 813.33it/s] \n"
     ]
    }
   ],
   "source": [
    "qs = []\n",
    "for a in ans:\n",
    "    qs.append(a.split('-')[0].split(':')[0])\n",
    "    \n",
    "questions = list(set(qs))\n",
    "pids = survey_type['person_id'].unique()\n",
    "\n",
    "dataset_dict = {}\n",
    "for pid in pids:\n",
    "    dataset_dict[pid] = {}\n",
    "    for q in questions:\n",
    "        dataset_dict[pid][q] = []\n",
    "        \n",
    "grk = survey_type.groupby('person_id')\n",
    "check = []\n",
    "for pid in tqdm(pids):\n",
    "    pat_dat = grk.get_group(pid)\n",
    "    pat_qa = pat_dat['answer']\n",
    "    for qa in pat_qa:\n",
    "        q = qa.split('-')[0].split(':')[0]\n",
    "        a = qa.split('-')[-1].split(':')[-1]\n",
    "        dataset_dict[pid][q].append(a)\n",
    "        if len(dataset_dict[pid][q])>1:\n",
    "            check.append((pid, qa)) # Why do some patients provide different answers for the same question"
   ]
  },
  {
   "cell_type": "code",
   "execution_count": 22,
   "metadata": {},
   "outputs": [],
   "source": [
    "dataset_df = pd.DataFrame.from_dict(dataset_dict, orient='index')"
   ]
  },
  {
   "cell_type": "code",
   "execution_count": 23,
   "metadata": {},
   "outputs": [
    {
     "data": {
      "text/plain": [
       "81221"
      ]
     },
     "execution_count": 23,
     "metadata": {},
     "output_type": "execute_result"
    }
   ],
   "source": [
    "survey_pat = list(survey_type.person_id.unique())\n",
    "len(survey_pat)"
   ]
  },
  {
   "cell_type": "code",
   "execution_count": 24,
   "metadata": {},
   "outputs": [
    {
     "data": {
      "text/plain": [
       "['Including yourself, who in your family has had prostate cancer? ',\n",
       " 'Including yourself, who in your family has had lung cancer? ',\n",
       " 'Including yourself, who in your family has had cervical cancer? ',\n",
       " 'Including yourself, who in your family has had pancreatic cancer? ',\n",
       " 'Including yourself, who in your family has had skin cancer? ',\n",
       " 'Including yourself, who in your family has had esophageal cancer? ',\n",
       " 'Including yourself, who in your family has had bone cancer? ',\n",
       " 'Including yourself, who in your family has had endocrine cancer? ',\n",
       " 'Including yourself, who in your family has had stomach cancer? ',\n",
       " 'Including yourself, who in your family has had ovarian cancer? ',\n",
       " 'Including yourself, who in your family has had eye cancer? ',\n",
       " 'Including yourself, who in your family has had bladder cancer? ',\n",
       " 'Including yourself, who in your family has had kidney cancer? ',\n",
       " 'Including yourself, who in your family has had blood or soft tissue cancer? ',\n",
       " 'Including yourself, who in your family has had other cancer(s)? ',\n",
       " 'Including yourself, who in your family has had endometrial cancer? ',\n",
       " 'Have you or anyone in your family ever been diagnosed with the following cancer conditions? Think only of the people you are related to by blood. ',\n",
       " 'Including yourself, who in your family has had colon cancer/rectal cancer? ',\n",
       " 'Including yourself, who in your family has had thyroid cancer? ',\n",
       " 'Including yourself, who in your family has had brain cancer? ',\n",
       " 'Including yourself, who in your family has had head and neck cancer? (This includes cancers of the mouth, sinuses, nose, or throat. This does not include brain cancer.) ',\n",
       " 'Including yourself, who in your family has had breast cancer? ']"
      ]
     },
     "execution_count": 24,
     "metadata": {},
     "output_type": "execute_result"
    }
   ],
   "source": [
    "cancer_related_q = []\n",
    "for i in dataset_df.columns:\n",
    "    if 'cancer' in i:\n",
    "        if 'family' in i:\n",
    "            cancer_related_q.append(i)\n",
    "cancer_related_q"
   ]
  },
  {
   "cell_type": "code",
   "execution_count": 25,
   "metadata": {},
   "outputs": [
    {
     "data": {
      "text/plain": [
       "['Including yourself, who in your family has had prostate cancer? ',\n",
       " 'Including yourself, who in your family has had pancreatic cancer? ',\n",
       " 'Including yourself, who in your family has had stomach cancer? ',\n",
       " 'Including yourself, who in your family has had ovarian cancer? ',\n",
       " 'Including yourself, who in your family has had bladder cancer? ',\n",
       " 'Including yourself, who in your family has had endometrial cancer? ',\n",
       " 'Including yourself, who in your family has had colon cancer/rectal cancer? ']"
      ]
     },
     "execution_count": 25,
     "metadata": {},
     "output_type": "execute_result"
    }
   ],
   "source": [
    "idx = [0,3,8,9,11,15,17] # every run the order of list changes. Change idx to have a list of prostate, colon, endometrial, pancreatic, bladder, ovarian, and stomach cancer\n",
    "LSq = [cancer_related_q[i] for i in idx]\n",
    "LSq"
   ]
  },
  {
   "cell_type": "code",
   "execution_count": 26,
   "metadata": {},
   "outputs": [],
   "source": [
    "Q_res = {}\n",
    "for Q in LSq:\n",
    "    res = {}\n",
    "    for i, row in dataset_df.iterrows():\n",
    "        if len(row[Q])>0:\n",
    "            res[i] = row[Q]\n",
    "    Q_res[Q] = res"
   ]
  },
  {
   "cell_type": "code",
   "execution_count": 27,
   "metadata": {},
   "outputs": [],
   "source": [
    "pat_survey = {}\n",
    "for i in ctrl_with_med_record:\n",
    "    pat_survey[i] = []\n",
    "for q in LSq:\n",
    "    res = Q_res[q]\n",
    "    for k,v in res.items():\n",
    "        pat_survey[k].extend(v)"
   ]
  },
  {
   "cell_type": "code",
   "execution_count": 28,
   "metadata": {},
   "outputs": [],
   "source": [
    "for k, v in pat_survey.items():\n",
    "    unique_v = set(v)\n",
    "    pat_survey[k] = [i for i in unique_v if i!=' Self']"
   ]
  },
  {
   "cell_type": "code",
   "execution_count": 29,
   "metadata": {},
   "outputs": [],
   "source": [
    "ctrl_fh = {}\n",
    "for k,v in pat_survey.items():\n",
    "    if len(v)>0:\n",
    "        ctrl_fh[k]=v"
   ]
  },
  {
   "cell_type": "code",
   "execution_count": 30,
   "metadata": {},
   "outputs": [
    {
     "data": {
      "text/plain": [
       "27530"
      ]
     },
     "execution_count": 30,
     "metadata": {},
     "output_type": "execute_result"
    }
   ],
   "source": [
    "len(ctrl_fh)"
   ]
  },
  {
   "cell_type": "code",
   "execution_count": 33,
   "metadata": {},
   "outputs": [],
   "source": [
    "nonLS_fam = make2df(ctrl_fh, 'control')"
   ]
  },
  {
   "cell_type": "code",
   "execution_count": 34,
   "metadata": {},
   "outputs": [],
   "source": [
    "bucket = os.getenv(\"WORKSPACE_BUCKET\")\n",
    "\n",
    "save_path = f'{bucket}/data/nonLS_fam.csv'\n",
    "nonLS_fam.to_csv(save_path)"
   ]
  },
  {
   "cell_type": "code",
   "execution_count": null,
   "metadata": {},
   "outputs": [],
   "source": []
  }
 ],
 "metadata": {
  "kernelspec": {
   "display_name": "Python 3",
   "language": "python",
   "name": "python3"
  },
  "language_info": {
   "codemirror_mode": {
    "name": "ipython",
    "version": 3
   },
   "file_extension": ".py",
   "mimetype": "text/x-python",
   "name": "python",
   "nbconvert_exporter": "python",
   "pygments_lexer": "ipython3",
   "version": "3.10.12"
  },
  "toc": {
   "base_numbering": 1,
   "nav_menu": {},
   "number_sections": true,
   "sideBar": true,
   "skip_h1_title": false,
   "title_cell": "Table of Contents",
   "title_sidebar": "Contents",
   "toc_cell": false,
   "toc_position": {},
   "toc_section_display": true,
   "toc_window_display": false
  }
 },
 "nbformat": 4,
 "nbformat_minor": 2
}
