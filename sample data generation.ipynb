{
 "cells": [
  {
   "cell_type": "code",
   "execution_count": 29,
   "metadata": {},
   "outputs": [],
   "source": [
    "import random\n",
    "from tqdm import tqdm\n",
    "from collections import Counter\n",
    "import pandas as pd\n",
    "\n",
    "\n",
    "def generate_unique_ids(num_ids, start=0, end=100000):\n",
    "    unique_ids = set()\n",
    "    while len(unique_ids) < num_ids:\n",
    "        random_number = random.randint(start, end)\n",
    "        unique_ids.add(random_number)\n",
    "    return list(unique_ids)\n",
    "\n",
    "num_ids = 50000\n",
    "samp_person_id = generate_unique_ids(num_ids)\n",
    "\n",
    "ids_cancer = samp_person_id[0:int(num_ids/2)]\n",
    "ids_nocancer = samp_person_id[int(num_ids/2):]"
   ]
  },
  {
   "cell_type": "code",
   "execution_count": 32,
   "metadata": {},
   "outputs": [
    {
     "name": "stderr",
     "output_type": "stream",
     "text": [
      "c:\\Users\\jp4147\\Anaconda3\\envs\\py39new\\lib\\site-packages\\openpyxl\\reader\\workbook.py:118: UserWarning: Print area cannot be set to Defined name: Sheet1!$A:$B.\n",
      "  warn(f\"Print area cannot be set to Defined name: {defn.value}.\")\n",
      "100%|██████████| 25000/25000 [00:00<00:00, 1195053.74it/s]\n",
      "100%|██████████| 700/700 [00:00<?, ?it/s]\n",
      "100%|██████████| 25000/25000 [00:03<00:00, 7317.87it/s]\n",
      "100%|██████████| 25000/25000 [00:00<00:00, 784715.43it/s]\n",
      "100%|██████████| 25000/25000 [00:03<00:00, 7098.19it/s]\n"
     ]
    }
   ],
   "source": [
    "cancer_items = list(Counter(pd.read_excel('Supplementary Table 2.xlsx')['category']).keys())\n",
    "group_items = ['MLH1', 'MSH2', 'MSH6', 'PMS2']\n",
    "samp_cancer, samp_group = [], []\n",
    "for i in tqdm(range(int(num_ids/2))):\n",
    "    samp_cancer.append(random.choice(cancer_items))\n",
    "for i in tqdm(range(700)):\n",
    "    samp_group.append(random.choice(group_items))\n",
    "    \n",
    "samp_group = samp_group+['control']*(int(num_ids/2)-700)\n",
    "\n",
    "import pandas as pd\n",
    "import random\n",
    "\n",
    "# Define the start and end timestamps\n",
    "start_timestamp = pd.Timestamp('1981-01-15 00:00:00')\n",
    "end_timestamp = pd.Timestamp('2022-07-01 00:00:00')\n",
    "\n",
    "# Convert timestamps to Unix time (seconds since epoch)\n",
    "start_unix = start_timestamp.timestamp()\n",
    "end_unix = end_timestamp.timestamp()\n",
    "\n",
    "# Function to generate a random timestamp within the given range\n",
    "def generate_random_timestamp(start_unix, end_unix):\n",
    "    random_unix = random.uniform(start_unix, end_unix)\n",
    "    random_timestamp = pd.to_datetime(random_unix, unit='s')\n",
    "    return random_timestamp\n",
    "\n",
    "samp_time = []\n",
    "# Generate a random timestamp\n",
    "for i in tqdm(range(int(num_ids/2))):\n",
    "    random_timestamp = generate_random_timestamp(start_unix, end_unix)\n",
    "    samp_time.append(random_timestamp.normalize())\n",
    "    \n",
    "samp_age = []\n",
    "\n",
    "for i in tqdm(range(int(num_ids/2))):\n",
    "    random_number = random.randint(20, 100)\n",
    "    samp_age.append(random_number)\n",
    "    \n",
    "samp_df = pd.DataFrame(ids_cancer)\n",
    "samp_df.columns = ['person_id'] \n",
    "samp_df['condition_start_date'] = samp_time\n",
    "samp_df['group'] = samp_group\n",
    "samp_df['age'] = samp_age\n",
    "sex_items = ['Female', 'Male']\n",
    "samp_sex = []\n",
    "# for i, row in samp_df.iterrows():\n",
    "#     samp_sex.append(random.choice(sex_items))\n",
    "    \n",
    "samp_df['category'] = samp_cancer\n",
    "\n",
    "\n",
    "for i, row in samp_df.iterrows():\n",
    "    if row['category'] in ['ovarian', 'breast', 'female genital','cervical','uterine/endometrial']:\n",
    "        samp_sex.append('Female')\n",
    "    \n",
    "    elif row['category'] in ['male genital']:\n",
    "        samp_sex.append('Male')\n",
    "    else:\n",
    "        samp_sex.append(random.choice(sex_items))\n",
    "        \n",
    "samp_df['gender'] = samp_sex\n",
    "\n",
    "start_timestamp = pd.Timestamp('1905-06-15 00:00:00')\n",
    "\n",
    "for i, row in samp_df.iterrows():\n",
    "    condition_start_date = row['condition_start_date']\n",
    "    end_timestamp = condition_start_date - pd.DateOffset(years=18)\n",
    "\n",
    "# Convert timestamps to Unix time (seconds since epoch)\n",
    "start_unix = start_timestamp.timestamp()\n",
    "end_unix = end_timestamp.timestamp()\n",
    "\n",
    "samp_bd = []\n",
    "# Generate a random timestamp\n",
    "for i in tqdm(range(int(num_ids/2))):\n",
    "    random_timestamp = generate_random_timestamp(start_unix, end_unix)\n",
    "    samp_bd.append(random_timestamp.normalize())\n",
    "samp_df['date_of_birth'] = samp_bd"
   ]
  },
  {
   "cell_type": "code",
   "execution_count": 33,
   "metadata": {},
   "outputs": [],
   "source": [
    "samp_df.to_csv('cancer.csv', index = None)"
   ]
  },
  {
   "cell_type": "code",
   "execution_count": 34,
   "metadata": {},
   "outputs": [
    {
     "name": "stderr",
     "output_type": "stream",
     "text": [
      "c:\\Users\\jp4147\\Anaconda3\\envs\\py39new\\lib\\site-packages\\openpyxl\\reader\\workbook.py:118: UserWarning: Print area cannot be set to Defined name: Sheet1!$A:$B.\n",
      "  warn(f\"Print area cannot be set to Defined name: {defn.value}.\")\n",
      "100%|██████████| 25000/25000 [00:00<00:00, 1195789.67it/s]\n",
      "100%|██████████| 700/700 [00:00<?, ?it/s]\n",
      "100%|██████████| 25000/25000 [00:03<00:00, 7290.93it/s]\n",
      "100%|██████████| 25000/25000 [00:00<00:00, 440542.98it/s]\n",
      "100%|██████████| 25000/25000 [00:03<00:00, 7264.08it/s]\n"
     ]
    }
   ],
   "source": [
    "cancer_items = list(Counter(pd.read_excel('Supplementary Table 2.xlsx')['category']).keys())\n",
    "group_items = ['MLH1', 'MSH2', 'MSH6', 'PMS2']\n",
    "samp_cancer, samp_group = [], []\n",
    "for i in tqdm(range(int(num_ids/2))):\n",
    "    samp_cancer.append(random.choice(cancer_items))\n",
    "for i in tqdm(range(700)):\n",
    "    samp_group.append(random.choice(group_items))\n",
    "    \n",
    "samp_group = samp_group+['control']*(int(num_ids/2)-700)\n",
    "\n",
    "import pandas as pd\n",
    "import random\n",
    "\n",
    "# Define the start and end timestamps\n",
    "start_timestamp = pd.Timestamp('1981-01-15 00:00:00')\n",
    "end_timestamp = pd.Timestamp('2022-07-01 00:00:00')\n",
    "\n",
    "# Convert timestamps to Unix time (seconds since epoch)\n",
    "start_unix = start_timestamp.timestamp()\n",
    "end_unix = end_timestamp.timestamp()\n",
    "\n",
    "# Function to generate a random timestamp within the given range\n",
    "def generate_random_timestamp(start_unix, end_unix):\n",
    "    random_unix = random.uniform(start_unix, end_unix)\n",
    "    random_timestamp = pd.to_datetime(random_unix, unit='s')\n",
    "    return random_timestamp\n",
    "\n",
    "samp_time = []\n",
    "# Generate a random timestamp\n",
    "for i in tqdm(range(int(num_ids/2))):\n",
    "    random_timestamp = generate_random_timestamp(start_unix, end_unix)\n",
    "    samp_time.append(random_timestamp.normalize())\n",
    "    \n",
    "samp_age = []\n",
    "\n",
    "for i in tqdm(range(int(num_ids/2))):\n",
    "    random_number = random.randint(20, 100)\n",
    "    samp_age.append(random_number)\n",
    "    \n",
    "samp_df = pd.DataFrame(ids_nocancer)\n",
    "samp_df.columns = ['person_id'] \n",
    "samp_df['condition_start_date'] = samp_time\n",
    "samp_df['group'] = samp_group\n",
    "samp_df['age'] = samp_age\n",
    "sex_items = ['Female', 'Male']\n",
    "samp_sex = []\n",
    "for i, row in samp_df.iterrows():\n",
    "    samp_sex.append(random.choice(sex_items))\n",
    "        \n",
    "samp_df['gender'] = samp_sex\n",
    "\n",
    "start_timestamp = pd.Timestamp('1905-06-15 00:00:00')\n",
    "\n",
    "for i, row in samp_df.iterrows():\n",
    "    condition_start_date = row['condition_start_date']\n",
    "    end_timestamp = condition_start_date - pd.DateOffset(years=18)\n",
    "\n",
    "# Convert timestamps to Unix time (seconds since epoch)\n",
    "start_unix = start_timestamp.timestamp()\n",
    "end_unix = end_timestamp.timestamp()\n",
    "\n",
    "samp_bd = []\n",
    "# Generate a random timestamp\n",
    "for i in tqdm(range(int(num_ids/2))):\n",
    "    random_timestamp = generate_random_timestamp(start_unix, end_unix)\n",
    "    samp_bd.append(random_timestamp.normalize())\n",
    "samp_df['date_of_birth'] = samp_bd"
   ]
  },
  {
   "cell_type": "code",
   "execution_count": 35,
   "metadata": {},
   "outputs": [],
   "source": [
    "samp_df.to_csv('nocancer.csv', index = None)"
   ]
  },
  {
   "cell_type": "code",
   "execution_count": 2,
   "metadata": {},
   "outputs": [],
   "source": [
    "cancer = pd.read_csv('cancer.csv', parse_dates=['condition_start_date','date_of_birth'])\n",
    "nocancer = pd.read_csv('nocancer.csv', parse_dates=['condition_start_date','date_of_birth'])\n",
    "\n",
    "dat = pd.concat([cancer,nocancer])\n",
    "dat.to_csv('demog.csv', index = None)"
   ]
  },
  {
   "cell_type": "code",
   "execution_count": 43,
   "metadata": {},
   "outputs": [
    {
     "data": {
      "text/plain": [
       "1400"
      ]
     },
     "execution_count": 43,
     "metadata": {},
     "output_type": "execute_result"
    }
   ],
   "source": [
    "len(dat[dat['group']!='control']['person_id'])"
   ]
  },
  {
   "cell_type": "code",
   "execution_count": 47,
   "metadata": {},
   "outputs": [
    {
     "name": "stderr",
     "output_type": "stream",
     "text": [
      "100%|██████████| 1000/1000 [00:00<00:00, 502191.57it/s]\n"
     ]
    }
   ],
   "source": [
    "# pat = list(dat[dat['group']!='control']['person_id'])\n",
    "pat = list(dat[dat['group']=='control']['person_id'])\n",
    "\n",
    "fam = [['Father'], ['Father', 'Mother'], ['Grandparent'], ['Son', 'Father'], ['Grandparent', 'Father'], ['Daughter', 'Mother']]\n",
    "pat_with_fam = []\n",
    "which_fam = []\n",
    "for i in tqdm(range(1000)):\n",
    "    pat_with_fam.append(random.choice(pat))\n",
    "    which_fam.append(random.choice(pat))"
   ]
  },
  {
   "cell_type": "code",
   "execution_count": 48,
   "metadata": {},
   "outputs": [],
   "source": [
    "fam_df = pd.DataFrame(pat_with_fam)\n",
    "fam_df.columns = ['person_id']\n",
    "fam_df['fam'] = which_fam"
   ]
  },
  {
   "cell_type": "code",
   "execution_count": 49,
   "metadata": {},
   "outputs": [],
   "source": [
    "# fam_df.to_csv('LS_fam.csv')\n",
    "fam_df.to_csv('nonLS_fam.csv')"
   ]
  },
  {
   "cell_type": "code",
   "execution_count": null,
   "metadata": {},
   "outputs": [],
   "source": []
  }
 ],
 "metadata": {
  "kernelspec": {
   "display_name": "Python 3",
   "language": "python",
   "name": "python3"
  },
  "language_info": {
   "codemirror_mode": {
    "name": "ipython",
    "version": 3
   },
   "file_extension": ".py",
   "mimetype": "text/x-python",
   "name": "python",
   "nbconvert_exporter": "python",
   "pygments_lexer": "ipython3",
   "version": "3.9.19"
  },
  "toc": {
   "base_numbering": 1,
   "nav_menu": {},
   "number_sections": true,
   "sideBar": true,
   "skip_h1_title": false,
   "title_cell": "Table of Contents",
   "title_sidebar": "Contents",
   "toc_cell": false,
   "toc_position": {},
   "toc_section_display": true,
   "toc_window_display": false
  }
 },
 "nbformat": 4,
 "nbformat_minor": 2
}
